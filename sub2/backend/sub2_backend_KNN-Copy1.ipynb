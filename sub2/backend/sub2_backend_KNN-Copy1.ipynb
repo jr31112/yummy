{
 "cells": [
  {
   "cell_type": "code",
   "execution_count": 6,
   "metadata": {},
   "outputs": [],
   "source": [
    "import sqlite3\n",
    "import pandas as pd\n",
    "import numpy as np\n",
    "import sklearn\n",
    "import surprise"
   ]
  },
  {
   "cell_type": "code",
   "execution_count": 7,
   "metadata": {},
   "outputs": [],
   "source": [
    "con = sqlite3.connect(\"db.sqlite3\")\n",
    "cur = con.cursor()"
   ]
  },
  {
   "cell_type": "code",
   "execution_count": 8,
   "metadata": {},
   "outputs": [],
   "source": [
    "df_store = pd.read_sql_query(\"SELECT * FROM api_store\", con)\n",
    "df_review = pd.read_sql_query(\"SELECT * FROM api_review\", con)"
   ]
  },
  {
   "cell_type": "code",
   "execution_count": 9,
   "metadata": {
    "scrolled": false
   },
   "outputs": [
    {
     "data": {
      "text/html": [
       "<div>\n",
       "<style scoped>\n",
       "    .dataframe tbody tr th:only-of-type {\n",
       "        vertical-align: middle;\n",
       "    }\n",
       "\n",
       "    .dataframe tbody tr th {\n",
       "        vertical-align: top;\n",
       "    }\n",
       "\n",
       "    .dataframe thead th {\n",
       "        text-align: right;\n",
       "    }\n",
       "</style>\n",
       "<table border=\"1\" class=\"dataframe\">\n",
       "  <thead>\n",
       "    <tr style=\"text-align: right;\">\n",
       "      <th></th>\n",
       "      <th>id</th>\n",
       "      <th>store_name</th>\n",
       "      <th>branch</th>\n",
       "      <th>area</th>\n",
       "      <th>tel</th>\n",
       "      <th>address</th>\n",
       "      <th>latitude</th>\n",
       "      <th>longitude</th>\n",
       "      <th>category</th>\n",
       "      <th>review_count</th>\n",
       "      <th>review_total_score</th>\n",
       "    </tr>\n",
       "  </thead>\n",
       "  <tbody>\n",
       "    <tr>\n",
       "      <th>0</th>\n",
       "      <td>1</td>\n",
       "      <td>Agal</td>\n",
       "      <td>None</td>\n",
       "      <td>홍대</td>\n",
       "      <td>010-6689-5886</td>\n",
       "      <td>서울특별시 마포구 동교동 170-13</td>\n",
       "      <td>37.556862</td>\n",
       "      <td>126.926666</td>\n",
       "      <td>아구찜|포장마차</td>\n",
       "      <td>0</td>\n",
       "      <td>0</td>\n",
       "    </tr>\n",
       "    <tr>\n",
       "      <th>1</th>\n",
       "      <td>2</td>\n",
       "      <td>Assisy</td>\n",
       "      <td>None</td>\n",
       "      <td>광주</td>\n",
       "      <td>062-367-0700</td>\n",
       "      <td>광주광역시 서구 농성동 631-33</td>\n",
       "      <td>35.150746</td>\n",
       "      <td>126.890062</td>\n",
       "      <td>카페</td>\n",
       "      <td>0</td>\n",
       "      <td>0</td>\n",
       "    </tr>\n",
       "    <tr>\n",
       "      <th>2</th>\n",
       "      <td>3</td>\n",
       "      <td>Battered Sole</td>\n",
       "      <td>None</td>\n",
       "      <td>이태원</td>\n",
       "      <td>02-749-6867</td>\n",
       "      <td>서울특별시 용산구 이태원동 118-9</td>\n",
       "      <td>37.535032</td>\n",
       "      <td>126.991664</td>\n",
       "      <td>피쉬앤칩스|펍</td>\n",
       "      <td>0</td>\n",
       "      <td>0</td>\n",
       "    </tr>\n",
       "    <tr>\n",
       "      <th>3</th>\n",
       "      <td>4</td>\n",
       "      <td>Chakyoung</td>\n",
       "      <td>None</td>\n",
       "      <td>달맞이길</td>\n",
       "      <td>051-756-5566</td>\n",
       "      <td>부산광역시 해운대구 중2동 1509-5</td>\n",
       "      <td>35.158587</td>\n",
       "      <td>129.175004</td>\n",
       "      <td>레스토랑|카프레제</td>\n",
       "      <td>0</td>\n",
       "      <td>0</td>\n",
       "    </tr>\n",
       "    <tr>\n",
       "      <th>4</th>\n",
       "      <td>5</td>\n",
       "      <td>Delabobo</td>\n",
       "      <td>None</td>\n",
       "      <td>발산역</td>\n",
       "      <td>02-2667-9854</td>\n",
       "      <td>서울특별시 강서구 등촌동 689</td>\n",
       "      <td>37.559904</td>\n",
       "      <td>126.840512</td>\n",
       "      <td>디저트카페|디저트</td>\n",
       "      <td>0</td>\n",
       "      <td>0</td>\n",
       "    </tr>\n",
       "  </tbody>\n",
       "</table>\n",
       "</div>"
      ],
      "text/plain": [
       "   id     store_name branch  area            tel                address  \\\n",
       "0   1           Agal   None    홍대  010-6689-5886   서울특별시 마포구 동교동 170-13   \n",
       "1   2         Assisy   None    광주   062-367-0700    광주광역시 서구 농성동 631-33   \n",
       "2   3  Battered Sole   None   이태원    02-749-6867   서울특별시 용산구 이태원동 118-9   \n",
       "3   4      Chakyoung   None  달맞이길   051-756-5566  부산광역시 해운대구 중2동 1509-5   \n",
       "4   5       Delabobo   None   발산역   02-2667-9854      서울특별시 강서구 등촌동 689   \n",
       "\n",
       "    latitude   longitude   category  review_count  review_total_score  \n",
       "0  37.556862  126.926666   아구찜|포장마차             0                   0  \n",
       "1  35.150746  126.890062         카페             0                   0  \n",
       "2  37.535032  126.991664    피쉬앤칩스|펍             0                   0  \n",
       "3  35.158587  129.175004  레스토랑|카프레제             0                   0  \n",
       "4  37.559904  126.840512  디저트카페|디저트             0                   0  "
      ]
     },
     "execution_count": 9,
     "metadata": {},
     "output_type": "execute_result"
    }
   ],
   "source": [
    "df_store.head()"
   ]
  },
  {
   "cell_type": "code",
   "execution_count": 10,
   "metadata": {
    "scrolled": false
   },
   "outputs": [
    {
     "data": {
      "text/html": [
       "<div>\n",
       "<style scoped>\n",
       "    .dataframe tbody tr th:only-of-type {\n",
       "        vertical-align: middle;\n",
       "    }\n",
       "\n",
       "    .dataframe tbody tr th {\n",
       "        vertical-align: top;\n",
       "    }\n",
       "\n",
       "    .dataframe thead th {\n",
       "        text-align: right;\n",
       "    }\n",
       "</style>\n",
       "<table border=\"1\" class=\"dataframe\">\n",
       "  <thead>\n",
       "    <tr style=\"text-align: right;\">\n",
       "      <th></th>\n",
       "      <th>id</th>\n",
       "      <th>total_score</th>\n",
       "      <th>content</th>\n",
       "      <th>reg_time</th>\n",
       "      <th>store_id</th>\n",
       "      <th>user_id</th>\n",
       "    </tr>\n",
       "  </thead>\n",
       "  <tbody>\n",
       "    <tr>\n",
       "      <th>0</th>\n",
       "      <td>1</td>\n",
       "      <td>5.0</td>\n",
       "      <td>전포 윗길에 새로 생긴! 호주에서 온 쉐프가 직접 요리하는 호주식 레스토랑!</td>\n",
       "      <td>2020-04-07 07:13:49.444324</td>\n",
       "      <td>15</td>\n",
       "      <td>68632</td>\n",
       "    </tr>\n",
       "    <tr>\n",
       "      <th>1</th>\n",
       "      <td>2</td>\n",
       "      <td>5.0</td>\n",
       "      <td>샌드위치 내용물도 알차게 들어있고 맛있었어요 가성비 추천</td>\n",
       "      <td>2020-04-07 07:13:49.444324</td>\n",
       "      <td>18</td>\n",
       "      <td>389728</td>\n",
       "    </tr>\n",
       "    <tr>\n",
       "      <th>2</th>\n",
       "      <td>3</td>\n",
       "      <td>4.0</td>\n",
       "      <td>홈플러스 1층 매장 푸드코트 내 있는 매장인데 계란찜정식은 처음보고 시켜봣는데 사진...</td>\n",
       "      <td>2020-04-07 07:13:49.444324</td>\n",
       "      <td>19</td>\n",
       "      <td>68716</td>\n",
       "    </tr>\n",
       "    <tr>\n",
       "      <th>3</th>\n",
       "      <td>4</td>\n",
       "      <td>2.0</td>\n",
       "      <td>전 여기 5년전에 가봤었는데 그때 기억은 별로였어요\\n단체손님이 많았고, 차려지는건...</td>\n",
       "      <td>2020-04-07 07:13:49.444324</td>\n",
       "      <td>37</td>\n",
       "      <td>774353</td>\n",
       "    </tr>\n",
       "    <tr>\n",
       "      <th>4</th>\n",
       "      <td>5</td>\n",
       "      <td>3.0</td>\n",
       "      <td>친구들끼리 술 간단하게마시러 감. 스끼다시 괜찮지만 회 양이 조금 부족한 느낌. 맛...</td>\n",
       "      <td>2020-04-07 07:13:49.444324</td>\n",
       "      <td>38</td>\n",
       "      <td>115682</td>\n",
       "    </tr>\n",
       "  </tbody>\n",
       "</table>\n",
       "</div>"
      ],
      "text/plain": [
       "   id  total_score                                            content  \\\n",
       "0   1          5.0         전포 윗길에 새로 생긴! 호주에서 온 쉐프가 직접 요리하는 호주식 레스토랑!   \n",
       "1   2          5.0                    샌드위치 내용물도 알차게 들어있고 맛있었어요 가성비 추천   \n",
       "2   3          4.0  홈플러스 1층 매장 푸드코트 내 있는 매장인데 계란찜정식은 처음보고 시켜봣는데 사진...   \n",
       "3   4          2.0  전 여기 5년전에 가봤었는데 그때 기억은 별로였어요\\n단체손님이 많았고, 차려지는건...   \n",
       "4   5          3.0  친구들끼리 술 간단하게마시러 감. 스끼다시 괜찮지만 회 양이 조금 부족한 느낌. 맛...   \n",
       "\n",
       "                     reg_time  store_id  user_id  \n",
       "0  2020-04-07 07:13:49.444324        15    68632  \n",
       "1  2020-04-07 07:13:49.444324        18   389728  \n",
       "2  2020-04-07 07:13:49.444324        19    68716  \n",
       "3  2020-04-07 07:13:49.444324        37   774353  \n",
       "4  2020-04-07 07:13:49.444324        38   115682  "
      ]
     },
     "execution_count": 10,
     "metadata": {},
     "output_type": "execute_result"
    }
   ],
   "source": [
    "df_review.head()"
   ]
  },
  {
   "cell_type": "code",
   "execution_count": 11,
   "metadata": {},
   "outputs": [],
   "source": [
    "con.close()"
   ]
  },
  {
   "cell_type": "code",
   "execution_count": 12,
   "metadata": {},
   "outputs": [
    {
     "name": "stderr",
     "output_type": "stream",
     "text": [
      "C:\\ProgramData\\Anaconda3\\lib\\site-packages\\pandas\\core\\frame.py:4133: SettingWithCopyWarning: \n",
      "A value is trying to be set on a copy of a slice from a DataFrame\n",
      "\n",
      "See the caveats in the documentation: https://pandas.pydata.org/pandas-docs/stable/user_guide/indexing.html#returning-a-view-versus-a-copy\n",
      "  errors=errors,\n"
     ]
    }
   ],
   "source": [
    "stores = df_store[['id', 'store_name', 'category']]\n",
    "reviews = df_review[['user_id', 'store_id', 'total_score']]\n",
    "stores.rename(columns={'id': 'store_id'}, inplace=True)\n",
    "reviews.rename(columns={'total_score': 'rating'}, inplace=True)"
   ]
  },
  {
   "cell_type": "code",
   "execution_count": 13,
   "metadata": {
    "scrolled": false
   },
   "outputs": [
    {
     "data": {
      "text/html": [
       "<div>\n",
       "<style scoped>\n",
       "    .dataframe tbody tr th:only-of-type {\n",
       "        vertical-align: middle;\n",
       "    }\n",
       "\n",
       "    .dataframe tbody tr th {\n",
       "        vertical-align: top;\n",
       "    }\n",
       "\n",
       "    .dataframe thead th {\n",
       "        text-align: right;\n",
       "    }\n",
       "</style>\n",
       "<table border=\"1\" class=\"dataframe\">\n",
       "  <thead>\n",
       "    <tr style=\"text-align: right;\">\n",
       "      <th></th>\n",
       "      <th>user_id</th>\n",
       "      <th>store_id</th>\n",
       "      <th>rating</th>\n",
       "      <th>store_name</th>\n",
       "      <th>category</th>\n",
       "    </tr>\n",
       "  </thead>\n",
       "  <tbody>\n",
       "    <tr>\n",
       "      <th>0</th>\n",
       "      <td>68632</td>\n",
       "      <td>15</td>\n",
       "      <td>5.0</td>\n",
       "      <td>써리힐</td>\n",
       "      <td>호주레스토랑</td>\n",
       "    </tr>\n",
       "    <tr>\n",
       "      <th>1</th>\n",
       "      <td>389728</td>\n",
       "      <td>18</td>\n",
       "      <td>5.0</td>\n",
       "      <td>진삼미 샌드위치</td>\n",
       "      <td>샌드위치|쥬스</td>\n",
       "    </tr>\n",
       "    <tr>\n",
       "      <th>2</th>\n",
       "      <td>68716</td>\n",
       "      <td>19</td>\n",
       "      <td>4.0</td>\n",
       "      <td>한옥마을 전주비빔밥</td>\n",
       "      <td>전주비빔밥</td>\n",
       "    </tr>\n",
       "    <tr>\n",
       "      <th>3</th>\n",
       "      <td>774353</td>\n",
       "      <td>37</td>\n",
       "      <td>2.0</td>\n",
       "      <td>007식당</td>\n",
       "      <td>굴비정식|굴비</td>\n",
       "    </tr>\n",
       "    <tr>\n",
       "      <th>4</th>\n",
       "      <td>115682</td>\n",
       "      <td>38</td>\n",
       "      <td>3.0</td>\n",
       "      <td>010수산</td>\n",
       "      <td>횟집</td>\n",
       "    </tr>\n",
       "  </tbody>\n",
       "</table>\n",
       "</div>"
      ],
      "text/plain": [
       "   user_id  store_id  rating  store_name category\n",
       "0    68632        15     5.0         써리힐   호주레스토랑\n",
       "1   389728        18     5.0    진삼미 샌드위치  샌드위치|쥬스\n",
       "2    68716        19     4.0  한옥마을 전주비빔밥    전주비빔밥\n",
       "3   774353        37     2.0       007식당  굴비정식|굴비\n",
       "4   115682        38     3.0       010수산       횟집"
      ]
     },
     "execution_count": 13,
     "metadata": {},
     "output_type": "execute_result"
    }
   ],
   "source": [
    "df = pd.merge(reviews, stores, on=\"store_id\")\n",
    "df.head()"
   ]
  },
  {
   "cell_type": "code",
   "execution_count": 14,
   "metadata": {
    "scrolled": true
   },
   "outputs": [
    {
     "data": {
      "text/plain": [
       "(91398, 5)"
      ]
     },
     "execution_count": 14,
     "metadata": {},
     "output_type": "execute_result"
    }
   ],
   "source": [
    "df.shape"
   ]
  },
  {
   "cell_type": "code",
   "execution_count": 15,
   "metadata": {
    "scrolled": true
   },
   "outputs": [
    {
     "name": "stdout",
     "output_type": "stream",
     "text": [
      "<class 'pandas.core.frame.DataFrame'>\n",
      "Int64Index: 91398 entries, 0 to 91397\n",
      "Data columns (total 5 columns):\n",
      " #   Column      Non-Null Count  Dtype  \n",
      "---  ------      --------------  -----  \n",
      " 0   user_id     91398 non-null  int64  \n",
      " 1   store_id    91398 non-null  int64  \n",
      " 2   rating      91398 non-null  float64\n",
      " 3   store_name  91398 non-null  object \n",
      " 4   category    91398 non-null  object \n",
      "dtypes: float64(1), int64(2), object(2)\n",
      "memory usage: 4.2+ MB\n"
     ]
    }
   ],
   "source": [
    "df.info()"
   ]
  },
  {
   "cell_type": "markdown",
   "metadata": {},
   "source": [
    "## Ratings Distribution"
   ]
  },
  {
   "cell_type": "code",
   "execution_count": 16,
   "metadata": {
    "scrolled": false
   },
   "outputs": [
    {
     "name": "stdout",
     "output_type": "stream",
     "text": [
      "Requirement already satisfied: plotly in c:\\programdata\\anaconda3\\lib\\site-packages (4.6.0)\n",
      "Requirement already satisfied: six in c:\\programdata\\anaconda3\\lib\\site-packages (from plotly) (1.14.0)\n",
      "Requirement already satisfied: retrying>=1.3.3 in c:\\programdata\\anaconda3\\lib\\site-packages (from plotly) (1.3.3)\n"
     ]
    }
   ],
   "source": [
    "!pip install plotly"
   ]
  },
  {
   "cell_type": "code",
   "execution_count": 31,
   "metadata": {},
   "outputs": [],
   "source": [
    "reader = surprise.Reader(rating_scale=(0, 5))\n",
    "dataframe = surprise.Dataset.load_from_df(df[['user_id', 'store_id', 'rating']], reader)\n",
    "trainset = dataframe.build_full_trainset()\n",
    "global_mean = trainset.global_mean\n",
    "bu = np.zeros(trainset.n_users)\n",
    "bi = np.zeros(trainset.n_items)"
   ]
  },
  {
   "cell_type": "code",
   "execution_count": 32,
   "metadata": {},
   "outputs": [],
   "source": [
    "reg = 0.02 # reg: 정규화 가중치\n",
    "learning_rate = 0.005 # learning_rate: 최적화를 위한 스탭 사이즈\n",
    "n_epochs = 20 # n_epochs: 최적화 반복 횟수\n",
    "\n",
    "def bsl_option_is_sgd():\n",
    "    for dummy in range(n_epochs):\n",
    "        for u, i, r in self.trainset.all_ratings():\n",
    "            err = (r - (global_mean + bu[u] + bi[i]))\n",
    "            bu[u] += lr * (err - reg * bu[u])\n",
    "            bi[i] += lr * (err - reg * bi[i])\n",
    "    return bu, bi"
   ]
  },
  {
   "cell_type": "code",
   "execution_count": 33,
   "metadata": {},
   "outputs": [],
   "source": [
    "reg_i = 10 # reg_i: 상품에 대한 가중치\n",
    "reg_u = 15 # reg_u: 유저에 대한 가중치\n",
    "n_epochs = 10 # n_epochs: 최적화 반복 횟수\n",
    "\n",
    "def bsl_option_is_als():\n",
    "    for dummy in range(n_epoch):\n",
    "        for i in trainset.all_items():\n",
    "            dev_i = 0\n",
    "            for (u, r) in trainset.ir[i]:\n",
    "                dev_i += r - global_mean - bu[u]\n",
    "\n",
    "            bi[i] = dev_i / (reg_i + len(trainset.ir[i]))\n",
    "\n",
    "        for u in trainset.all_users():\n",
    "            dev_u = 0\n",
    "            for (i, r) in trainset.ur[u]:\n",
    "                dev_u += r - global_mean - bi[i]\n",
    "\n",
    "            bu[u] = dev_u / (reg_u + len(trainset.ur[u]))\n",
    "    return bu, bi"
   ]
  },
  {
   "cell_type": "code",
   "execution_count": 43,
   "metadata": {},
   "outputs": [],
   "source": [
    "sim_options = {\n",
    "    'name': 'pearson', # 사용할 유사도 이름. ['cosine', 'pearson_baseline', 'pearson']\n",
    "    'user_based': True, # user를 base로 할것인지 item을 base로 할 것인지 결정.\n",
    "    # u, v간 교집합 원소 최소 갯수를 설정한다. 이 경우는 5개 이상의 공통된 아이템(or 사용자)가\n",
    "    # 존재하면 유사도를 계산하지만, 그 미만의 경우에는 sim(u, v) == 0로 설정한다.\n",
    "    'min_support': 5,\n",
    "    'shrinkage': 0, # 이 패러미터는 pearson_baseline을 사용할 경우에만 해당된다.\n",
    "}\n",
    "algo = surprise.KNNBasic(sim_options=sim_options)"
   ]
  },
  {
   "cell_type": "code",
   "execution_count": 47,
   "metadata": {},
   "outputs": [],
   "source": [
    "from surprise.model_selection import cross_validate"
   ]
  },
  {
   "cell_type": "code",
   "execution_count": 48,
   "metadata": {
    "scrolled": true
   },
   "outputs": [
    {
     "name": "stdout",
     "output_type": "stream",
     "text": [
      "Computing the pearson similarity matrix...\n",
      "Done computing similarity matrix.\n",
      "Computing the pearson similarity matrix...\n",
      "Done computing similarity matrix.\n",
      "Computing the pearson similarity matrix...\n",
      "Done computing similarity matrix.\n",
      "Computing the pearson similarity matrix...\n",
      "Done computing similarity matrix.\n",
      "Computing the pearson similarity matrix...\n",
      "Done computing similarity matrix.\n"
     ]
    },
    {
     "data": {
      "text/plain": [
       "0.8527115999606029"
      ]
     },
     "execution_count": 48,
     "metadata": {},
     "output_type": "execute_result"
    }
   ],
   "source": [
    "cross_validate(algo, data)[\"test_mae\"].mean()"
   ]
  },
  {
   "cell_type": "code",
   "execution_count": 49,
   "metadata": {
    "scrolled": true
   },
   "outputs": [
    {
     "data": {
      "text/html": [
       "<div>\n",
       "<style scoped>\n",
       "    .dataframe tbody tr th:only-of-type {\n",
       "        vertical-align: middle;\n",
       "    }\n",
       "\n",
       "    .dataframe tbody tr th {\n",
       "        vertical-align: top;\n",
       "    }\n",
       "\n",
       "    .dataframe thead th {\n",
       "        text-align: right;\n",
       "    }\n",
       "</style>\n",
       "<table border=\"1\" class=\"dataframe\">\n",
       "  <thead>\n",
       "    <tr style=\"text-align: right;\">\n",
       "      <th></th>\n",
       "      <th>user_id</th>\n",
       "      <th>store_id</th>\n",
       "      <th>rating</th>\n",
       "      <th>store_name</th>\n",
       "      <th>category</th>\n",
       "    </tr>\n",
       "  </thead>\n",
       "  <tbody>\n",
       "    <tr>\n",
       "      <th>0</th>\n",
       "      <td>68632</td>\n",
       "      <td>15</td>\n",
       "      <td>5.0</td>\n",
       "      <td>써리힐</td>\n",
       "      <td>호주레스토랑</td>\n",
       "    </tr>\n",
       "    <tr>\n",
       "      <th>1</th>\n",
       "      <td>389728</td>\n",
       "      <td>18</td>\n",
       "      <td>5.0</td>\n",
       "      <td>진삼미 샌드위치</td>\n",
       "      <td>샌드위치|쥬스</td>\n",
       "    </tr>\n",
       "    <tr>\n",
       "      <th>2</th>\n",
       "      <td>68716</td>\n",
       "      <td>19</td>\n",
       "      <td>4.0</td>\n",
       "      <td>한옥마을 전주비빔밥</td>\n",
       "      <td>전주비빔밥</td>\n",
       "    </tr>\n",
       "    <tr>\n",
       "      <th>3</th>\n",
       "      <td>774353</td>\n",
       "      <td>37</td>\n",
       "      <td>2.0</td>\n",
       "      <td>007식당</td>\n",
       "      <td>굴비정식|굴비</td>\n",
       "    </tr>\n",
       "    <tr>\n",
       "      <th>4</th>\n",
       "      <td>115682</td>\n",
       "      <td>38</td>\n",
       "      <td>3.0</td>\n",
       "      <td>010수산</td>\n",
       "      <td>횟집</td>\n",
       "    </tr>\n",
       "  </tbody>\n",
       "</table>\n",
       "</div>"
      ],
      "text/plain": [
       "   user_id  store_id  rating  store_name category\n",
       "0    68632        15     5.0         써리힐   호주레스토랑\n",
       "1   389728        18     5.0    진삼미 샌드위치  샌드위치|쥬스\n",
       "2    68716        19     4.0  한옥마을 전주비빔밥    전주비빔밥\n",
       "3   774353        37     2.0       007식당  굴비정식|굴비\n",
       "4   115682        38     3.0       010수산       횟집"
      ]
     },
     "execution_count": 49,
     "metadata": {},
     "output_type": "execute_result"
    }
   ],
   "source": [
    "ratings = df\n",
    "ratings.head()"
   ]
  },
  {
   "cell_type": "code",
   "execution_count": 50,
   "metadata": {},
   "outputs": [],
   "source": [
    "from surprise import Reader, Dataset"
   ]
  },
  {
   "cell_type": "code",
   "execution_count": 52,
   "metadata": {},
   "outputs": [],
   "source": [
    "reader = Reader(rating_scale=(0.5, 5.0))\n",
    "data = Dataset.load_from_df(ratings[['user_id', 'store_id', 'rating']], reader)"
   ]
  },
  {
   "cell_type": "code",
   "execution_count": 53,
   "metadata": {
    "scrolled": true
   },
   "outputs": [
    {
     "ename": "AttributeError",
     "evalue": "'DatasetAutoFolds' object has no attribute 'split'",
     "output_type": "error",
     "traceback": [
      "\u001b[1;31m---------------------------------------------------------------------------\u001b[0m",
      "\u001b[1;31mAttributeError\u001b[0m                            Traceback (most recent call last)",
      "\u001b[1;32m<ipython-input-53-90bdabff1998>\u001b[0m in \u001b[0;36m<module>\u001b[1;34m\u001b[0m\n\u001b[0;32m      1\u001b[0m \u001b[1;31m# Split data into 5 folds\u001b[0m\u001b[1;33m\u001b[0m\u001b[1;33m\u001b[0m\u001b[1;33m\u001b[0m\u001b[0m\n\u001b[0;32m      2\u001b[0m \u001b[1;33m\u001b[0m\u001b[0m\n\u001b[1;32m----> 3\u001b[1;33m \u001b[0mdata\u001b[0m\u001b[1;33m.\u001b[0m\u001b[0msplit\u001b[0m\u001b[1;33m(\u001b[0m\u001b[0mn_folds\u001b[0m\u001b[1;33m=\u001b[0m\u001b[1;36m5\u001b[0m\u001b[1;33m)\u001b[0m\u001b[1;33m\u001b[0m\u001b[1;33m\u001b[0m\u001b[0m\n\u001b[0m\u001b[0;32m      4\u001b[0m \u001b[1;33m\u001b[0m\u001b[0m\n\u001b[0;32m      5\u001b[0m \u001b[1;32mfrom\u001b[0m \u001b[0msurprise\u001b[0m \u001b[1;32mimport\u001b[0m \u001b[0mSVD\u001b[0m\u001b[1;33m,\u001b[0m \u001b[0mevaluate\u001b[0m\u001b[1;33m\u001b[0m\u001b[1;33m\u001b[0m\u001b[0m\n",
      "\u001b[1;31mAttributeError\u001b[0m: 'DatasetAutoFolds' object has no attribute 'split'"
     ]
    }
   ],
   "source": [
    "# Split data into 5 folds\n",
    "\n",
    "data.split(n_folds=5)\n",
    "\n",
    "from surprise import SVD, evaluate\n",
    "from surprise import NMF\n",
    "from surprise import KNNBasic\n",
    "\n",
    "# svd\n",
    "algo = SVD()\n",
    "evaluate(algo, data, measures=['RMSE'])\n",
    "\n",
    "# nmf\n",
    "algo = NMF()\n",
    "evaluate(algo, data, measures=['RMSE'])\n",
    "\n",
    "algo = KNNBasic()\n",
    "evaluate(algo, data, measures=['RMSE'])"
   ]
  },
  {
   "cell_type": "code",
   "execution_count": 54,
   "metadata": {},
   "outputs": [],
   "source": [
    "import pandas as pd"
   ]
  },
  {
   "cell_type": "code",
   "execution_count": 59,
   "metadata": {},
   "outputs": [
    {
     "data": {
      "text/html": [
       "<div>\n",
       "<style scoped>\n",
       "    .dataframe tbody tr th:only-of-type {\n",
       "        vertical-align: middle;\n",
       "    }\n",
       "\n",
       "    .dataframe tbody tr th {\n",
       "        vertical-align: top;\n",
       "    }\n",
       "\n",
       "    .dataframe thead th {\n",
       "        text-align: right;\n",
       "    }\n",
       "</style>\n",
       "<table border=\"1\" class=\"dataframe\">\n",
       "  <thead>\n",
       "    <tr style=\"text-align: right;\">\n",
       "      <th></th>\n",
       "      <th>id</th>\n",
       "      <th>store_name</th>\n",
       "      <th>branch</th>\n",
       "      <th>area</th>\n",
       "      <th>tel</th>\n",
       "      <th>address</th>\n",
       "      <th>latitude</th>\n",
       "      <th>longitude</th>\n",
       "      <th>category</th>\n",
       "      <th>review_count</th>\n",
       "      <th>review_total_score</th>\n",
       "    </tr>\n",
       "  </thead>\n",
       "  <tbody>\n",
       "    <tr>\n",
       "      <th>0</th>\n",
       "      <td>1</td>\n",
       "      <td>Agal</td>\n",
       "      <td>None</td>\n",
       "      <td>홍대</td>\n",
       "      <td>010-6689-5886</td>\n",
       "      <td>서울특별시 마포구 동교동 170-13</td>\n",
       "      <td>37.556862</td>\n",
       "      <td>126.926666</td>\n",
       "      <td>아구찜|포장마차</td>\n",
       "      <td>0</td>\n",
       "      <td>0</td>\n",
       "    </tr>\n",
       "    <tr>\n",
       "      <th>1</th>\n",
       "      <td>2</td>\n",
       "      <td>Assisy</td>\n",
       "      <td>None</td>\n",
       "      <td>광주</td>\n",
       "      <td>062-367-0700</td>\n",
       "      <td>광주광역시 서구 농성동 631-33</td>\n",
       "      <td>35.150746</td>\n",
       "      <td>126.890062</td>\n",
       "      <td>카페</td>\n",
       "      <td>0</td>\n",
       "      <td>0</td>\n",
       "    </tr>\n",
       "    <tr>\n",
       "      <th>2</th>\n",
       "      <td>3</td>\n",
       "      <td>Battered Sole</td>\n",
       "      <td>None</td>\n",
       "      <td>이태원</td>\n",
       "      <td>02-749-6867</td>\n",
       "      <td>서울특별시 용산구 이태원동 118-9</td>\n",
       "      <td>37.535032</td>\n",
       "      <td>126.991664</td>\n",
       "      <td>피쉬앤칩스|펍</td>\n",
       "      <td>0</td>\n",
       "      <td>0</td>\n",
       "    </tr>\n",
       "    <tr>\n",
       "      <th>3</th>\n",
       "      <td>4</td>\n",
       "      <td>Chakyoung</td>\n",
       "      <td>None</td>\n",
       "      <td>달맞이길</td>\n",
       "      <td>051-756-5566</td>\n",
       "      <td>부산광역시 해운대구 중2동 1509-5</td>\n",
       "      <td>35.158587</td>\n",
       "      <td>129.175004</td>\n",
       "      <td>레스토랑|카프레제</td>\n",
       "      <td>0</td>\n",
       "      <td>0</td>\n",
       "    </tr>\n",
       "    <tr>\n",
       "      <th>4</th>\n",
       "      <td>5</td>\n",
       "      <td>Delabobo</td>\n",
       "      <td>None</td>\n",
       "      <td>발산역</td>\n",
       "      <td>02-2667-9854</td>\n",
       "      <td>서울특별시 강서구 등촌동 689</td>\n",
       "      <td>37.559904</td>\n",
       "      <td>126.840512</td>\n",
       "      <td>디저트카페|디저트</td>\n",
       "      <td>0</td>\n",
       "      <td>0</td>\n",
       "    </tr>\n",
       "  </tbody>\n",
       "</table>\n",
       "</div>"
      ],
      "text/plain": [
       "   id     store_name branch  area            tel                address  \\\n",
       "0   1           Agal   None    홍대  010-6689-5886   서울특별시 마포구 동교동 170-13   \n",
       "1   2         Assisy   None    광주   062-367-0700    광주광역시 서구 농성동 631-33   \n",
       "2   3  Battered Sole   None   이태원    02-749-6867   서울특별시 용산구 이태원동 118-9   \n",
       "3   4      Chakyoung   None  달맞이길   051-756-5566  부산광역시 해운대구 중2동 1509-5   \n",
       "4   5       Delabobo   None   발산역   02-2667-9854      서울특별시 강서구 등촌동 689   \n",
       "\n",
       "    latitude   longitude   category  review_count  review_total_score  \n",
       "0  37.556862  126.926666   아구찜|포장마차             0                   0  \n",
       "1  35.150746  126.890062         카페             0                   0  \n",
       "2  37.535032  126.991664    피쉬앤칩스|펍             0                   0  \n",
       "3  35.158587  129.175004  레스토랑|카프레제             0                   0  \n",
       "4  37.559904  126.840512  디저트카페|디저트             0                   0  "
      ]
     },
     "execution_count": 59,
     "metadata": {},
     "output_type": "execute_result"
    }
   ],
   "source": [
    "df_store.head()"
   ]
  },
  {
   "cell_type": "code",
   "execution_count": 58,
   "metadata": {},
   "outputs": [
    {
     "data": {
      "text/html": [
       "<div>\n",
       "<style scoped>\n",
       "    .dataframe tbody tr th:only-of-type {\n",
       "        vertical-align: middle;\n",
       "    }\n",
       "\n",
       "    .dataframe tbody tr th {\n",
       "        vertical-align: top;\n",
       "    }\n",
       "\n",
       "    .dataframe thead th {\n",
       "        text-align: right;\n",
       "    }\n",
       "</style>\n",
       "<table border=\"1\" class=\"dataframe\">\n",
       "  <thead>\n",
       "    <tr style=\"text-align: right;\">\n",
       "      <th></th>\n",
       "      <th>id</th>\n",
       "      <th>total_score</th>\n",
       "      <th>content</th>\n",
       "      <th>reg_time</th>\n",
       "      <th>store_id</th>\n",
       "      <th>user_id</th>\n",
       "    </tr>\n",
       "  </thead>\n",
       "  <tbody>\n",
       "    <tr>\n",
       "      <th>0</th>\n",
       "      <td>1</td>\n",
       "      <td>5.0</td>\n",
       "      <td>전포 윗길에 새로 생긴! 호주에서 온 쉐프가 직접 요리하는 호주식 레스토랑!</td>\n",
       "      <td>2020-04-07 07:13:49.444324</td>\n",
       "      <td>15</td>\n",
       "      <td>68632</td>\n",
       "    </tr>\n",
       "    <tr>\n",
       "      <th>1</th>\n",
       "      <td>2</td>\n",
       "      <td>5.0</td>\n",
       "      <td>샌드위치 내용물도 알차게 들어있고 맛있었어요 가성비 추천</td>\n",
       "      <td>2020-04-07 07:13:49.444324</td>\n",
       "      <td>18</td>\n",
       "      <td>389728</td>\n",
       "    </tr>\n",
       "    <tr>\n",
       "      <th>2</th>\n",
       "      <td>3</td>\n",
       "      <td>4.0</td>\n",
       "      <td>홈플러스 1층 매장 푸드코트 내 있는 매장인데 계란찜정식은 처음보고 시켜봣는데 사진...</td>\n",
       "      <td>2020-04-07 07:13:49.444324</td>\n",
       "      <td>19</td>\n",
       "      <td>68716</td>\n",
       "    </tr>\n",
       "    <tr>\n",
       "      <th>3</th>\n",
       "      <td>4</td>\n",
       "      <td>2.0</td>\n",
       "      <td>전 여기 5년전에 가봤었는데 그때 기억은 별로였어요\\n단체손님이 많았고, 차려지는건...</td>\n",
       "      <td>2020-04-07 07:13:49.444324</td>\n",
       "      <td>37</td>\n",
       "      <td>774353</td>\n",
       "    </tr>\n",
       "    <tr>\n",
       "      <th>4</th>\n",
       "      <td>5</td>\n",
       "      <td>3.0</td>\n",
       "      <td>친구들끼리 술 간단하게마시러 감. 스끼다시 괜찮지만 회 양이 조금 부족한 느낌. 맛...</td>\n",
       "      <td>2020-04-07 07:13:49.444324</td>\n",
       "      <td>38</td>\n",
       "      <td>115682</td>\n",
       "    </tr>\n",
       "  </tbody>\n",
       "</table>\n",
       "</div>"
      ],
      "text/plain": [
       "   id  total_score                                            content  \\\n",
       "0   1          5.0         전포 윗길에 새로 생긴! 호주에서 온 쉐프가 직접 요리하는 호주식 레스토랑!   \n",
       "1   2          5.0                    샌드위치 내용물도 알차게 들어있고 맛있었어요 가성비 추천   \n",
       "2   3          4.0  홈플러스 1층 매장 푸드코트 내 있는 매장인데 계란찜정식은 처음보고 시켜봣는데 사진...   \n",
       "3   4          2.0  전 여기 5년전에 가봤었는데 그때 기억은 별로였어요\\n단체손님이 많았고, 차려지는건...   \n",
       "4   5          3.0  친구들끼리 술 간단하게마시러 감. 스끼다시 괜찮지만 회 양이 조금 부족한 느낌. 맛...   \n",
       "\n",
       "                     reg_time  store_id  user_id  \n",
       "0  2020-04-07 07:13:49.444324        15    68632  \n",
       "1  2020-04-07 07:13:49.444324        18   389728  \n",
       "2  2020-04-07 07:13:49.444324        19    68716  \n",
       "3  2020-04-07 07:13:49.444324        37   774353  \n",
       "4  2020-04-07 07:13:49.444324        38   115682  "
      ]
     },
     "execution_count": 58,
     "metadata": {},
     "output_type": "execute_result"
    }
   ],
   "source": [
    "df_review.head()"
   ]
  },
  {
   "cell_type": "code",
   "execution_count": 68,
   "metadata": {},
   "outputs": [],
   "source": [
    "stores = df_store[['id', 'store_name', 'category']]\n",
    "reviews = df_review[['user_id', 'store_id', 'total_score']]\n",
    "stores.rename(columns={'id': 'store_id'}, inplace=True)\n",
    "reviews.rename(columns={'total_score': 'rating'}, inplace=True)"
   ]
  },
  {
   "cell_type": "code",
   "execution_count": 69,
   "metadata": {},
   "outputs": [],
   "source": [
    "Ratings = reviews"
   ]
  },
  {
   "cell_type": "code",
   "execution_count": 70,
   "metadata": {},
   "outputs": [
    {
     "data": {
      "text/html": [
       "<div>\n",
       "<style scoped>\n",
       "    .dataframe tbody tr th:only-of-type {\n",
       "        vertical-align: middle;\n",
       "    }\n",
       "\n",
       "    .dataframe tbody tr th {\n",
       "        vertical-align: top;\n",
       "    }\n",
       "\n",
       "    .dataframe thead th {\n",
       "        text-align: right;\n",
       "    }\n",
       "</style>\n",
       "<table border=\"1\" class=\"dataframe\">\n",
       "  <thead>\n",
       "    <tr style=\"text-align: right;\">\n",
       "      <th></th>\n",
       "      <th>user_id</th>\n",
       "      <th>store_id</th>\n",
       "      <th>rating</th>\n",
       "    </tr>\n",
       "  </thead>\n",
       "  <tbody>\n",
       "    <tr>\n",
       "      <th>0</th>\n",
       "      <td>68632</td>\n",
       "      <td>15</td>\n",
       "      <td>5.0</td>\n",
       "    </tr>\n",
       "    <tr>\n",
       "      <th>1</th>\n",
       "      <td>389728</td>\n",
       "      <td>18</td>\n",
       "      <td>5.0</td>\n",
       "    </tr>\n",
       "    <tr>\n",
       "      <th>2</th>\n",
       "      <td>68716</td>\n",
       "      <td>19</td>\n",
       "      <td>4.0</td>\n",
       "    </tr>\n",
       "    <tr>\n",
       "      <th>3</th>\n",
       "      <td>774353</td>\n",
       "      <td>37</td>\n",
       "      <td>2.0</td>\n",
       "    </tr>\n",
       "    <tr>\n",
       "      <th>4</th>\n",
       "      <td>115682</td>\n",
       "      <td>38</td>\n",
       "      <td>3.0</td>\n",
       "    </tr>\n",
       "  </tbody>\n",
       "</table>\n",
       "</div>"
      ],
      "text/plain": [
       "   user_id  store_id  rating\n",
       "0    68632        15     5.0\n",
       "1   389728        18     5.0\n",
       "2    68716        19     4.0\n",
       "3   774353        37     2.0\n",
       "4   115682        38     3.0"
      ]
     },
     "execution_count": 70,
     "metadata": {},
     "output_type": "execute_result"
    }
   ],
   "source": [
    "Ratings.head()"
   ]
  },
  {
   "cell_type": "code",
   "execution_count": 72,
   "metadata": {},
   "outputs": [
    {
     "data": {
      "text/html": [
       "<div>\n",
       "<style scoped>\n",
       "    .dataframe tbody tr th:only-of-type {\n",
       "        vertical-align: middle;\n",
       "    }\n",
       "\n",
       "    .dataframe tbody tr th {\n",
       "        vertical-align: top;\n",
       "    }\n",
       "\n",
       "    .dataframe thead th {\n",
       "        text-align: right;\n",
       "    }\n",
       "</style>\n",
       "<table border=\"1\" class=\"dataframe\">\n",
       "  <thead>\n",
       "    <tr style=\"text-align: right;\">\n",
       "      <th></th>\n",
       "      <th>user_id</th>\n",
       "      <th>store_id</th>\n",
       "      <th>rating_x</th>\n",
       "      <th>rating_y</th>\n",
       "    </tr>\n",
       "  </thead>\n",
       "  <tbody>\n",
       "    <tr>\n",
       "      <th>0</th>\n",
       "      <td>68632</td>\n",
       "      <td>15</td>\n",
       "      <td>5.0</td>\n",
       "      <td>4.842975</td>\n",
       "    </tr>\n",
       "    <tr>\n",
       "      <th>1</th>\n",
       "      <td>68632</td>\n",
       "      <td>1216</td>\n",
       "      <td>5.0</td>\n",
       "      <td>4.842975</td>\n",
       "    </tr>\n",
       "    <tr>\n",
       "      <th>2</th>\n",
       "      <td>68632</td>\n",
       "      <td>8756</td>\n",
       "      <td>5.0</td>\n",
       "      <td>4.842975</td>\n",
       "    </tr>\n",
       "    <tr>\n",
       "      <th>3</th>\n",
       "      <td>68632</td>\n",
       "      <td>9460</td>\n",
       "      <td>5.0</td>\n",
       "      <td>4.842975</td>\n",
       "    </tr>\n",
       "    <tr>\n",
       "      <th>4</th>\n",
       "      <td>68632</td>\n",
       "      <td>13745</td>\n",
       "      <td>5.0</td>\n",
       "      <td>4.842975</td>\n",
       "    </tr>\n",
       "  </tbody>\n",
       "</table>\n",
       "</div>"
      ],
      "text/plain": [
       "   user_id  store_id  rating_x  rating_y\n",
       "0    68632        15       5.0  4.842975\n",
       "1    68632      1216       5.0  4.842975\n",
       "2    68632      8756       5.0  4.842975\n",
       "3    68632      9460       5.0  4.842975\n",
       "4    68632     13745       5.0  4.842975"
      ]
     },
     "execution_count": 72,
     "metadata": {},
     "output_type": "execute_result"
    }
   ],
   "source": [
    "Mean = Ratings.groupby(by=\"user_id\", as_index=False)['rating'].mean()\n",
    "Rating_avg = pd.merge(Ratings, Mean, on='user_id')\n",
    "Rating_avg.head()"
   ]
  },
  {
   "cell_type": "code",
   "execution_count": null,
   "metadata": {},
   "outputs": [],
   "source": [
    "Rating_avg['adg_rating'] = Rating_avg['rating_x']-Rating_avg['rating_y']\n",
    "Rating_avg.head()"
   ]
  },
  {
   "cell_type": "code",
   "execution_count": null,
   "metadata": {},
   "outputs": [],
   "source": []
  }
 ],
 "metadata": {
  "kernelspec": {
   "display_name": "Python 3",
   "language": "python",
   "name": "python3"
  },
  "language_info": {
   "codemirror_mode": {
    "name": "ipython",
    "version": 3
   },
   "file_extension": ".py",
   "mimetype": "text/x-python",
   "name": "python",
   "nbconvert_exporter": "python",
   "pygments_lexer": "ipython3",
   "version": "3.7.6"
  }
 },
 "nbformat": 4,
 "nbformat_minor": 4
}
