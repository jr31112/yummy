{
 "cells": [
  {
   "cell_type": "code",
   "execution_count": 4,
   "metadata": {},
   "outputs": [],
   "source": [
    "import sqlite3\n",
    "import pandas as pd"
   ]
  },
  {
   "cell_type": "markdown",
   "metadata": {},
   "source": [
    "### sqlite3 db to Dataframe"
   ]
  },
  {
   "cell_type": "code",
   "execution_count": 5,
   "metadata": {},
   "outputs": [],
   "source": [
    "con = sqlite3.connect(\"db.sqlite3\")\n",
    "cur = con.cursor()"
   ]
  },
  {
   "cell_type": "code",
   "execution_count": 6,
   "metadata": {},
   "outputs": [],
   "source": [
    "df_store = pd.read_sql_query(\"SELECT * from api_store\", con)\n",
    "df_review = pd.read_sql_query(\"SELECT * from api_review\", con)"
   ]
  },
  {
   "cell_type": "code",
   "execution_count": 7,
   "metadata": {},
   "outputs": [
    {
     "data": {
      "text/html": [
       "<div>\n",
       "<style scoped>\n",
       "    .dataframe tbody tr th:only-of-type {\n",
       "        vertical-align: middle;\n",
       "    }\n",
       "\n",
       "    .dataframe tbody tr th {\n",
       "        vertical-align: top;\n",
       "    }\n",
       "\n",
       "    .dataframe thead th {\n",
       "        text-align: right;\n",
       "    }\n",
       "</style>\n",
       "<table border=\"1\" class=\"dataframe\">\n",
       "  <thead>\n",
       "    <tr style=\"text-align: right;\">\n",
       "      <th></th>\n",
       "      <th>id</th>\n",
       "      <th>store_name</th>\n",
       "      <th>branch</th>\n",
       "      <th>area</th>\n",
       "      <th>tel</th>\n",
       "      <th>address</th>\n",
       "      <th>latitude</th>\n",
       "      <th>longitude</th>\n",
       "      <th>category</th>\n",
       "      <th>review_count</th>\n",
       "      <th>review_total_score</th>\n",
       "    </tr>\n",
       "  </thead>\n",
       "  <tbody>\n",
       "    <tr>\n",
       "      <th>0</th>\n",
       "      <td>1</td>\n",
       "      <td>Agal</td>\n",
       "      <td>None</td>\n",
       "      <td>홍대</td>\n",
       "      <td>010-6689-5886</td>\n",
       "      <td>서울특별시 마포구 동교동 170-13</td>\n",
       "      <td>37.556862</td>\n",
       "      <td>126.926666</td>\n",
       "      <td>아구찜|포장마차</td>\n",
       "      <td>0</td>\n",
       "      <td>0</td>\n",
       "    </tr>\n",
       "    <tr>\n",
       "      <th>1</th>\n",
       "      <td>2</td>\n",
       "      <td>Assisy</td>\n",
       "      <td>None</td>\n",
       "      <td>광주</td>\n",
       "      <td>062-367-0700</td>\n",
       "      <td>광주광역시 서구 농성동 631-33</td>\n",
       "      <td>35.150746</td>\n",
       "      <td>126.890062</td>\n",
       "      <td>카페</td>\n",
       "      <td>0</td>\n",
       "      <td>0</td>\n",
       "    </tr>\n",
       "    <tr>\n",
       "      <th>2</th>\n",
       "      <td>3</td>\n",
       "      <td>Battered Sole</td>\n",
       "      <td>None</td>\n",
       "      <td>이태원</td>\n",
       "      <td>02-749-6867</td>\n",
       "      <td>서울특별시 용산구 이태원동 118-9</td>\n",
       "      <td>37.535032</td>\n",
       "      <td>126.991664</td>\n",
       "      <td>피쉬앤칩스|펍</td>\n",
       "      <td>0</td>\n",
       "      <td>0</td>\n",
       "    </tr>\n",
       "    <tr>\n",
       "      <th>3</th>\n",
       "      <td>4</td>\n",
       "      <td>Chakyoung</td>\n",
       "      <td>None</td>\n",
       "      <td>달맞이길</td>\n",
       "      <td>051-756-5566</td>\n",
       "      <td>부산광역시 해운대구 중2동 1509-5</td>\n",
       "      <td>35.158587</td>\n",
       "      <td>129.175004</td>\n",
       "      <td>레스토랑|카프레제</td>\n",
       "      <td>0</td>\n",
       "      <td>0</td>\n",
       "    </tr>\n",
       "    <tr>\n",
       "      <th>4</th>\n",
       "      <td>5</td>\n",
       "      <td>Delabobo</td>\n",
       "      <td>None</td>\n",
       "      <td>발산역</td>\n",
       "      <td>02-2667-9854</td>\n",
       "      <td>서울특별시 강서구 등촌동 689</td>\n",
       "      <td>37.559904</td>\n",
       "      <td>126.840512</td>\n",
       "      <td>디저트카페|디저트</td>\n",
       "      <td>0</td>\n",
       "      <td>0</td>\n",
       "    </tr>\n",
       "  </tbody>\n",
       "</table>\n",
       "</div>"
      ],
      "text/plain": [
       "   id     store_name branch  area            tel                address  \\\n",
       "0   1           Agal   None    홍대  010-6689-5886   서울특별시 마포구 동교동 170-13   \n",
       "1   2         Assisy   None    광주   062-367-0700    광주광역시 서구 농성동 631-33   \n",
       "2   3  Battered Sole   None   이태원    02-749-6867   서울특별시 용산구 이태원동 118-9   \n",
       "3   4      Chakyoung   None  달맞이길   051-756-5566  부산광역시 해운대구 중2동 1509-5   \n",
       "4   5       Delabobo   None   발산역   02-2667-9854      서울특별시 강서구 등촌동 689   \n",
       "\n",
       "    latitude   longitude   category  review_count  review_total_score  \n",
       "0  37.556862  126.926666   아구찜|포장마차             0                   0  \n",
       "1  35.150746  126.890062         카페             0                   0  \n",
       "2  37.535032  126.991664    피쉬앤칩스|펍             0                   0  \n",
       "3  35.158587  129.175004  레스토랑|카프레제             0                   0  \n",
       "4  37.559904  126.840512  디저트카페|디저트             0                   0  "
      ]
     },
     "execution_count": 7,
     "metadata": {},
     "output_type": "execute_result"
    }
   ],
   "source": [
    "df_store.head()"
   ]
  },
  {
   "cell_type": "code",
   "execution_count": 8,
   "metadata": {},
   "outputs": [
    {
     "data": {
      "text/html": [
       "<div>\n",
       "<style scoped>\n",
       "    .dataframe tbody tr th:only-of-type {\n",
       "        vertical-align: middle;\n",
       "    }\n",
       "\n",
       "    .dataframe tbody tr th {\n",
       "        vertical-align: top;\n",
       "    }\n",
       "\n",
       "    .dataframe thead th {\n",
       "        text-align: right;\n",
       "    }\n",
       "</style>\n",
       "<table border=\"1\" class=\"dataframe\">\n",
       "  <thead>\n",
       "    <tr style=\"text-align: right;\">\n",
       "      <th></th>\n",
       "      <th>id</th>\n",
       "      <th>total_score</th>\n",
       "      <th>content</th>\n",
       "      <th>reg_time</th>\n",
       "      <th>store_id</th>\n",
       "      <th>user_id</th>\n",
       "    </tr>\n",
       "  </thead>\n",
       "  <tbody>\n",
       "    <tr>\n",
       "      <th>0</th>\n",
       "      <td>1</td>\n",
       "      <td>5.0</td>\n",
       "      <td>전포 윗길에 새로 생긴! 호주에서 온 쉐프가 직접 요리하는 호주식 레스토랑!</td>\n",
       "      <td>2020-04-06 01:19:01.604070</td>\n",
       "      <td>15</td>\n",
       "      <td>68632</td>\n",
       "    </tr>\n",
       "    <tr>\n",
       "      <th>1</th>\n",
       "      <td>2</td>\n",
       "      <td>5.0</td>\n",
       "      <td>샌드위치 내용물도 알차게 들어있고 맛있었어요 가성비 추천</td>\n",
       "      <td>2020-04-06 01:19:01.605069</td>\n",
       "      <td>18</td>\n",
       "      <td>389728</td>\n",
       "    </tr>\n",
       "    <tr>\n",
       "      <th>2</th>\n",
       "      <td>3</td>\n",
       "      <td>4.0</td>\n",
       "      <td>홈플러스 1층 매장 푸드코트 내 있는 매장인데 계란찜정식은 처음보고 시켜봣는데 사진...</td>\n",
       "      <td>2020-04-06 01:19:01.605069</td>\n",
       "      <td>19</td>\n",
       "      <td>68716</td>\n",
       "    </tr>\n",
       "    <tr>\n",
       "      <th>3</th>\n",
       "      <td>4</td>\n",
       "      <td>2.0</td>\n",
       "      <td>전 여기 5년전에 가봤었는데 그때 기억은 별로였어요\\n단체손님이 많았고, 차려지는건...</td>\n",
       "      <td>2020-04-06 01:19:01.605069</td>\n",
       "      <td>37</td>\n",
       "      <td>774353</td>\n",
       "    </tr>\n",
       "    <tr>\n",
       "      <th>4</th>\n",
       "      <td>5</td>\n",
       "      <td>3.0</td>\n",
       "      <td>친구들끼리 술 간단하게마시러 감. 스끼다시 괜찮지만 회 양이 조금 부족한 느낌. 맛...</td>\n",
       "      <td>2020-04-06 01:19:01.605069</td>\n",
       "      <td>38</td>\n",
       "      <td>115682</td>\n",
       "    </tr>\n",
       "  </tbody>\n",
       "</table>\n",
       "</div>"
      ],
      "text/plain": [
       "   id  total_score                                            content  \\\n",
       "0   1          5.0         전포 윗길에 새로 생긴! 호주에서 온 쉐프가 직접 요리하는 호주식 레스토랑!   \n",
       "1   2          5.0                    샌드위치 내용물도 알차게 들어있고 맛있었어요 가성비 추천   \n",
       "2   3          4.0  홈플러스 1층 매장 푸드코트 내 있는 매장인데 계란찜정식은 처음보고 시켜봣는데 사진...   \n",
       "3   4          2.0  전 여기 5년전에 가봤었는데 그때 기억은 별로였어요\\n단체손님이 많았고, 차려지는건...   \n",
       "4   5          3.0  친구들끼리 술 간단하게마시러 감. 스끼다시 괜찮지만 회 양이 조금 부족한 느낌. 맛...   \n",
       "\n",
       "                     reg_time  store_id  user_id  \n",
       "0  2020-04-06 01:19:01.604070        15    68632  \n",
       "1  2020-04-06 01:19:01.605069        18   389728  \n",
       "2  2020-04-06 01:19:01.605069        19    68716  \n",
       "3  2020-04-06 01:19:01.605069        37   774353  \n",
       "4  2020-04-06 01:19:01.605069        38   115682  "
      ]
     },
     "execution_count": 8,
     "metadata": {},
     "output_type": "execute_result"
    }
   ],
   "source": [
    "df_review.head()"
   ]
  },
  {
   "cell_type": "code",
   "execution_count": 9,
   "metadata": {},
   "outputs": [],
   "source": [
    "con.close()"
   ]
  },
  {
   "cell_type": "markdown",
   "metadata": {},
   "source": [
    "### surprise\n",
    "#### https://medium.com/sfu-cspmp/recommendation-systems-user-based-collaborative-filtering-using-n-nearest-neighbors-bf7361dc24e0\n",
    "#### https://github.com/ashaypathak/Recommendation-system/blob/master/Movie_Recommendation.ipynb"
   ]
  },
  {
   "cell_type": "code",
   "execution_count": 10,
   "metadata": {},
   "outputs": [],
   "source": [
    "import pandas as pd\n",
    "import numpy as np\n",
    "from sklearn.metrics.pairwise import cosine_similarity\n",
    "from sklearn.metrics import pairwise_distances"
   ]
  },
  {
   "cell_type": "code",
   "execution_count": 11,
   "metadata": {},
   "outputs": [
    {
     "name": "stderr",
     "output_type": "stream",
     "text": [
      "C:\\Users\\multicampus\\anaconda3\\envs\\pjt\\lib\\site-packages\\pandas\\core\\frame.py:4238: SettingWithCopyWarning: \n",
      "A value is trying to be set on a copy of a slice from a DataFrame\n",
      "\n",
      "See the caveats in the documentation: http://pandas.pydata.org/pandas-docs/stable/user_guide/indexing.html#returning-a-view-versus-a-copy\n",
      "  return super().rename(**kwargs)\n"
     ]
    }
   ],
   "source": [
    "stores = df_store[['id','store_name','category','address']]\n",
    "reviews = df_review[['user_id','store_id','total_score']]\n",
    "reviews.rename(columns={'total_score':'rating'}, inplace=True)\n",
    "stores.rename(columns={'id':'store_id'},inplace=True)"
   ]
  },
  {
   "cell_type": "code",
   "execution_count": null,
   "metadata": {},
   "outputs": [],
   "source": [
    "Mean = reviews.groupby(by=\"user_id\",as_index=False)['rating'].mean()\n",
    "Rating_avg = pd.merge(reviews,Mean,on='user_id')\n",
    "Rating_avg['adg_rating']=Rating_avg['rating_x']-Rating_avg['rating_y']\n",
    "Rating_avg.head()"
   ]
  },
  {
   "cell_type": "code",
   "execution_count": null,
   "metadata": {},
   "outputs": [],
   "source": [
    "check = pd.pivot_table(Rating_avg,values='rating_x',index='user_id',columns='store_id')\n",
    "check.head()"
   ]
  },
  {
   "cell_type": "code",
   "execution_count": null,
   "metadata": {},
   "outputs": [],
   "source": [
    "final = pd.pivot_table(Rating_avg,values='adg_rating',index='user_id',columns='store_id')\n",
    "final.head()"
   ]
  },
  {
   "cell_type": "code",
   "execution_count": null,
   "metadata": {},
   "outputs": [],
   "source": [
    "# Replacing NaN by Movie Average\n",
    "final_store = final.fillna(final.mean(axis=0))\n",
    "\n",
    "# Replacing NaN by user Average\n",
    "final_user = final.apply(lambda row: row.fillna(row.mean()), axis=1)"
   ]
  },
  {
   "cell_type": "code",
   "execution_count": null,
   "metadata": {},
   "outputs": [],
   "source": [
    "# user similarity on replacing NAN by user avg\n",
    "b = cosine_similarity(final_user)\n",
    "np.fill_diagonal(b, 0 )\n",
    "similarity_with_user = pd.DataFrame(b,index=final_user.index)\n",
    "similarity_with_user.columns=final_user.index\n",
    "similarity_with_user.head()"
   ]
  },
  {
   "cell_type": "code",
   "execution_count": null,
   "metadata": {},
   "outputs": [],
   "source": [
    "# user similarity on replacing NAN by item(movie) avg\n",
    "cosine = cosine_similarity(final_store)\n",
    "np.fill_diagonal(cosine, 0 )\n",
    "similarity_with_store = pd.DataFrame(cosine,index=final_store.index)\n",
    "similarity_with_store.columns=final_user.index\n",
    "similarity_with_store.head()"
   ]
  },
  {
   "cell_type": "code",
   "execution_count": null,
   "metadata": {},
   "outputs": [],
   "source": [
    "def find_n_neighbours(df,n):\n",
    "    order = np.argsort(df.values, axis=1)[:, :n]\n",
    "    df = df.apply(lambda x: pd.Series(x.sort_values(ascending=False)\n",
    "           .iloc[:n].index, \n",
    "          index=['top{}'.format(i) for i in range(1, n+1)]), axis=1)\n",
    "    return df"
   ]
  },
  {
   "cell_type": "code",
   "execution_count": null,
   "metadata": {},
   "outputs": [],
   "source": [
    "# top 30 neighbours for each user\n",
    "sim_user_30_u = find_n_neighbours(similarity_with_user,30)\n",
    "sim_user_30_u.head()"
   ]
  },
  {
   "cell_type": "code",
   "execution_count": null,
   "metadata": {},
   "outputs": [],
   "source": [
    "# top 30 neighbours for each user\n",
    "sim_user_30_m = find_n_neighbours(similarity_with_store,30)\n",
    "sim_user_30_m.head()"
   ]
  },
  {
   "cell_type": "code",
   "execution_count": null,
   "metadata": {},
   "outputs": [],
   "source": [
    "Rating_avg = Rating_avg.astype({\"store_id\": str})\n",
    "Movie_user = Rating_avg.groupby(by = 'user_id')['store_id'].apply(lambda x:','.join(x))"
   ]
  },
  {
   "cell_type": "code",
   "execution_count": null,
   "metadata": {},
   "outputs": [],
   "source": [
    "def User_item_score1(user):\n",
    "    Movie_seen_by_user = check.columns[check[check.index==user].notna().any()].tolist()\n",
    "    a = sim_user_30_m[sim_user_30_m.index==user].values\n",
    "    b = a.squeeze().tolist()\n",
    "    d = Movie_user[Movie_user.index.isin(b)]\n",
    "    l = ','.join(d.values)\n",
    "    Movie_seen_by_similar_users = l.split(',')\n",
    "    Movies_under_consideration = list(set(Movie_seen_by_similar_users)-set(list(map(str, Movie_seen_by_user))))\n",
    "    Movies_under_consideration = list(map(int, Movies_under_consideration))\n",
    "    score = []\n",
    "    for item in Movies_under_consideration:\n",
    "        c = final_store.loc[:,item]\n",
    "        d = c[c.index.isin(b)]\n",
    "        f = d[d.notnull()]\n",
    "        avg_user = Mean.loc[Mean['user_id'] == user,'rating'].values[0]\n",
    "        index = f.index.values.squeeze().tolist()\n",
    "        corr = similarity_with_store.loc[user,index]\n",
    "        fin = pd.concat([f, corr], axis=1)\n",
    "        fin.columns = ['adg_score','correlation']\n",
    "        fin['score']=fin.apply(lambda x:x['adg_score'] * x['correlation'],axis=1)\n",
    "        nume = fin['score'].sum()\n",
    "        deno = fin['correlation'].sum()\n",
    "        final_score = avg_user + (nume/deno)\n",
    "        score.append(final_score)\n",
    "    data = pd.DataFrame({'store_id':Movies_under_consideration,'score':score})\n",
    "    top_5_recommendation = data.sort_values(by='score',ascending=False).head(5)\n",
    "    Movie_Name = top_5_recommendation.merge(stores, how='inner', on='store_id')\n",
    "    print(Movie_Name)\n",
    "    Movie_Names = Movie_Name.store_name.values.tolist()\n",
    "    return Movie_Names"
   ]
  },
  {
   "cell_type": "code",
   "execution_count": null,
   "metadata": {},
   "outputs": [],
   "source": [
    "user = int(input(\"Enter the user id to whom you want to recommend : \"))\n",
    "predicted_movies = User_item_score1(user)\n",
    "print(\" \")\n",
    "print(\"The Recommendations for User Id :\"+str(user))\n",
    "print(\"   \")\n",
    "for i in predicted_movies:\n",
    "    print(i)"
   ]
  },
  {
   "cell_type": "code",
   "execution_count": null,
   "metadata": {},
   "outputs": [],
   "source": [
    "df[df['uid']==4974]"
   ]
  },
  {
   "cell_type": "code",
   "execution_count": null,
   "metadata": {},
   "outputs": [],
   "source": [
    "stores[stores['store_name']=='뚝닭']\n"
   ]
  },
  {
   "cell_type": "markdown",
   "metadata": {},
   "source": [
    "*** 절취선 ***"
   ]
  },
  {
   "cell_type": "code",
   "execution_count": null,
   "metadata": {},
   "outputs": [],
   "source": [
    "df[df['iid']==116469]"
   ]
  },
  {
   "cell_type": "code",
   "execution_count": null,
   "metadata": {},
   "outputs": [],
   "source": []
  },
  {
   "cell_type": "markdown",
   "metadata": {},
   "source": [
    "#### cross_validate parameters \n",
    "+ algo ( AlgoBase) – 평가할 알고리즘입니다.\n",
    "+ data ( Dataset) – 알고리즘을 평가할 데이터 세트입니다.\n",
    "측정 값 ( 문자열 목록 ) – 계산할 성능 측정 값입니다. 허용되는 이름은 accuracy모듈에 정의 된 기능 이름 입니다. 기본값은 입니다.['rmse', 'mae']\n",
    "+ cv (cross-validation iterator, int 또는 None) – data매개 변수가 분할되는 방법 (트레인 셋 및 테스트 세트가 정의되는 방법)을 결정합니다. int가 전달되면 KFold적절한 n_splits매개 변수 와 함께 사용됩니다 . 경우 None, KFold사용됩니다 n_splits=5.\n",
    "+ return_train_measures ( bool ) – 기차 세트에서 성능 측정 값을 계산할지 여부입니다. 기본값은 False입니다.\n",
    "n_jobs ( int ) –\n",
    "병렬로 평가 된 최대 접기 수입니다.\n",
    "\n",
    "인 경우 -1모든 CPU가 사용됩니다.\n",
    "1주어진 경우 병렬 컴퓨팅 코드가 전혀 사용되지 않으므로 디버깅에 유용합니다.\n",
    "내용은 n_jobs아래에 -1, 사용된다. 예를 들어 하나의 CPU를 제외한 모든 CPU가 사용됩니다.(n_cpus + n_jobs + 1)n_jobs = -2\n",
    "기본값은 1입니다.\n",
    "\n",
    "+ pre_dispatch ( int 또는 string ) –\n",
    "병렬 실행 중에 디스패치되는 작업 수를 제어합니다. 이 수를 줄이면 CPU가 처리 할 수있는 것보다 더 많은 작업이 디스패치 될 때 메모리 소비가 급격히 증가하는 것을 피할 수 있습니다. 이 매개 변수는 다음과 같습니다.\n",
    "\n",
    "None이 경우 모든 작업이 즉시 생성되어 생성됩니다. 작업의 주문형 생성으로 인한 지연을 피하기 위해 가볍고 빠르게 실행되는 작업에 사용하십시오.\n",
    "생성 된 정확한 총 작업 수를 제공하는 정수입니다.\n",
    "에서와 같이의 함수로 표현식을 제공하는 문자열 n_jobs입니다 '2*n_jobs'.\n",
    "기본값은 '2*n_jobs'입니다.\n",
    "\n",
    "+ verbose ( int ) – True각 분할에 대한 정확도 측정 값이 인쇄되고 훈련 및 테스트 시간 모든 분할에 대한 평균 및 표준 편차도보고됩니다. 기본값은 False아무것도 인쇄되지 않습니다."
   ]
  },
  {
   "cell_type": "markdown",
   "metadata": {},
   "source": [
    "https://www.fun-coding.org/recommend_basic7.html"
   ]
  },
  {
   "cell_type": "code",
   "execution_count": 12,
   "metadata": {},
   "outputs": [
    {
     "data": {
      "text/html": [
       "<div>\n",
       "<style scoped>\n",
       "    .dataframe tbody tr th:only-of-type {\n",
       "        vertical-align: middle;\n",
       "    }\n",
       "\n",
       "    .dataframe tbody tr th {\n",
       "        vertical-align: top;\n",
       "    }\n",
       "\n",
       "    .dataframe thead th {\n",
       "        text-align: right;\n",
       "    }\n",
       "</style>\n",
       "<table border=\"1\" class=\"dataframe\">\n",
       "  <thead>\n",
       "    <tr style=\"text-align: right;\">\n",
       "      <th></th>\n",
       "      <th>store_id</th>\n",
       "      <th>store_name</th>\n",
       "      <th>category</th>\n",
       "      <th>address</th>\n",
       "      <th>user_id</th>\n",
       "      <th>rating</th>\n",
       "    </tr>\n",
       "  </thead>\n",
       "  <tbody>\n",
       "    <tr>\n",
       "      <th>0</th>\n",
       "      <td>15</td>\n",
       "      <td>써리힐</td>\n",
       "      <td>호주레스토랑</td>\n",
       "      <td>부산광역시 부산진구 전포동  229-13번지 2층</td>\n",
       "      <td>68632</td>\n",
       "      <td>5.0</td>\n",
       "    </tr>\n",
       "    <tr>\n",
       "      <th>1</th>\n",
       "      <td>18</td>\n",
       "      <td>진삼미 샌드위치</td>\n",
       "      <td>샌드위치|쥬스</td>\n",
       "      <td>전라북도 전주시 완산구 효자동1가 652 상산고등학교앞</td>\n",
       "      <td>389728</td>\n",
       "      <td>5.0</td>\n",
       "    </tr>\n",
       "    <tr>\n",
       "      <th>2</th>\n",
       "      <td>19</td>\n",
       "      <td>한옥마을 전주비빔밥</td>\n",
       "      <td>전주비빔밥</td>\n",
       "      <td>경기도 화성시 향남읍 행정리 487-1  홈플러스 화성향남점 1층</td>\n",
       "      <td>68716</td>\n",
       "      <td>4.0</td>\n",
       "    </tr>\n",
       "    <tr>\n",
       "      <th>3</th>\n",
       "      <td>37</td>\n",
       "      <td>007식당</td>\n",
       "      <td>굴비정식|굴비</td>\n",
       "      <td>전라남도 영광군 법성면 법성리 1148-6</td>\n",
       "      <td>774353</td>\n",
       "      <td>2.0</td>\n",
       "    </tr>\n",
       "    <tr>\n",
       "      <th>4</th>\n",
       "      <td>38</td>\n",
       "      <td>010수산</td>\n",
       "      <td>횟집</td>\n",
       "      <td>서울특별시 강서구 등촌동 671-3</td>\n",
       "      <td>115682</td>\n",
       "      <td>3.0</td>\n",
       "    </tr>\n",
       "  </tbody>\n",
       "</table>\n",
       "</div>"
      ],
      "text/plain": [
       "   store_id  store_name category                               address  \\\n",
       "0        15         써리힐   호주레스토랑           부산광역시 부산진구 전포동  229-13번지 2층   \n",
       "1        18    진삼미 샌드위치  샌드위치|쥬스        전라북도 전주시 완산구 효자동1가 652 상산고등학교앞   \n",
       "2        19  한옥마을 전주비빔밥    전주비빔밥  경기도 화성시 향남읍 행정리 487-1  홈플러스 화성향남점 1층   \n",
       "3        37       007식당  굴비정식|굴비               전라남도 영광군 법성면 법성리 1148-6   \n",
       "4        38       010수산       횟집                   서울특별시 강서구 등촌동 671-3   \n",
       "\n",
       "   user_id  rating  \n",
       "0    68632     5.0  \n",
       "1   389728     5.0  \n",
       "2    68716     4.0  \n",
       "3   774353     2.0  \n",
       "4   115682     3.0  "
      ]
     },
     "execution_count": 12,
     "metadata": {},
     "output_type": "execute_result"
    }
   ],
   "source": [
    "df =pd.merge(stores, reviews,on=\"store_id\")\n",
    "df.head()"
   ]
  },
  {
   "cell_type": "code",
   "execution_count": 13,
   "metadata": {},
   "outputs": [],
   "source": [
    "from surprise import SVD\n",
    "from surprise import Dataset\n",
    "from surprise.model_selection import cross_validate\n",
    "from surprise import dump\n",
    "import surprise\n",
    "import os"
   ]
  },
  {
   "cell_type": "markdown",
   "metadata": {},
   "source": [
    "#### Memory error ... build_anti_testset()에서 나는듯.."
   ]
  },
  {
   "cell_type": "code",
   "execution_count": 14,
   "metadata": {},
   "outputs": [
    {
     "data": {
      "text/plain": [
       "<surprise.prediction_algorithms.matrix_factorization.SVD at 0x1d0f9d822e8>"
      ]
     },
     "execution_count": 14,
     "metadata": {},
     "output_type": "execute_result"
    }
   ],
   "source": [
    "#swapping columns\n",
    "df = pd.merge(reviews, stores,on=\"store_id\")\n",
    "raw=df[['user_id','store_id','rating']] \n",
    "# when importing from a DF, you only need to specify the scale of the ratings.\n",
    "reader = surprise.Reader(rating_scale=(0,5)) \n",
    "#into surprise:\n",
    "dataframe = surprise.Dataset.load_from_df(raw,reader)\n",
    "trainset = dataframe.build_full_trainset()\n",
    "# Use the famous SVD algorithm.\n",
    "algo = SVD()\n",
    "algo.fit(trainset)"
   ]
  },
  {
   "cell_type": "code",
   "execution_count": 13,
   "metadata": {},
   "outputs": [
    {
     "ename": "MemoryError",
     "evalue": "",
     "output_type": "error",
     "traceback": [
      "\u001b[1;31m---------------------------------------------------------------------------\u001b[0m",
      "\u001b[1;31mMemoryError\u001b[0m                               Traceback (most recent call last)",
      "\u001b[1;32m<ipython-input-13-4def5395c458>\u001b[0m in \u001b[0;36m<module>\u001b[1;34m\u001b[0m\n\u001b[1;32m----> 1\u001b[1;33m \u001b[0mtestset\u001b[0m \u001b[1;33m=\u001b[0m \u001b[0mtrainset\u001b[0m\u001b[1;33m.\u001b[0m\u001b[0mbuild_anti_testset\u001b[0m\u001b[1;33m(\u001b[0m\u001b[1;33m)\u001b[0m\u001b[1;33m\u001b[0m\u001b[1;33m\u001b[0m\u001b[0m\n\u001b[0m",
      "\u001b[1;32m~\\anaconda3\\envs\\pjt\\lib\\site-packages\\surprise\\trainset.py\u001b[0m in \u001b[0;36mbuild_anti_testset\u001b[1;34m(self, fill)\u001b[0m\n\u001b[0;32m    229\u001b[0m             \u001b[0muser_items\u001b[0m \u001b[1;33m=\u001b[0m \u001b[0mset\u001b[0m\u001b[1;33m(\u001b[0m\u001b[1;33m[\u001b[0m\u001b[0mj\u001b[0m \u001b[1;32mfor\u001b[0m \u001b[1;33m(\u001b[0m\u001b[0mj\u001b[0m\u001b[1;33m,\u001b[0m \u001b[0m_\u001b[0m\u001b[1;33m)\u001b[0m \u001b[1;32min\u001b[0m \u001b[0mself\u001b[0m\u001b[1;33m.\u001b[0m\u001b[0mur\u001b[0m\u001b[1;33m[\u001b[0m\u001b[0mu\u001b[0m\u001b[1;33m]\u001b[0m\u001b[1;33m]\u001b[0m\u001b[1;33m)\u001b[0m\u001b[1;33m\u001b[0m\u001b[1;33m\u001b[0m\u001b[0m\n\u001b[0;32m    230\u001b[0m             anti_testset += [(self.to_raw_uid(u), self.to_raw_iid(i), fill) for\n\u001b[1;32m--> 231\u001b[1;33m                              \u001b[0mi\u001b[0m \u001b[1;32min\u001b[0m \u001b[0mself\u001b[0m\u001b[1;33m.\u001b[0m\u001b[0mall_items\u001b[0m\u001b[1;33m(\u001b[0m\u001b[1;33m)\u001b[0m \u001b[1;32mif\u001b[0m\u001b[1;33m\u001b[0m\u001b[1;33m\u001b[0m\u001b[0m\n\u001b[0m\u001b[0;32m    232\u001b[0m                              i not in user_items]\n\u001b[0;32m    233\u001b[0m         \u001b[1;32mreturn\u001b[0m \u001b[0manti_testset\u001b[0m\u001b[1;33m\u001b[0m\u001b[1;33m\u001b[0m\u001b[0m\n",
      "\u001b[1;31mMemoryError\u001b[0m: "
     ]
    }
   ],
   "source": [
    "testset = trainset.build_anti_testset()"
   ]
  },
  {
   "cell_type": "code",
   "execution_count": 12,
   "metadata": {},
   "outputs": [
    {
     "ename": "MemoryError",
     "evalue": "",
     "output_type": "error",
     "traceback": [
      "\u001b[1;31m---------------------------------------------------------------------------\u001b[0m",
      "\u001b[1;31mMemoryError\u001b[0m                               Traceback (most recent call last)",
      "\u001b[1;32m<ipython-input-12-ffb15f5f76b0>\u001b[0m in \u001b[0;36m<module>\u001b[1;34m\u001b[0m\n\u001b[1;32m----> 1\u001b[1;33m \u001b[0mpredictions\u001b[0m \u001b[1;33m=\u001b[0m \u001b[0malgo\u001b[0m\u001b[1;33m.\u001b[0m\u001b[0mtest\u001b[0m\u001b[1;33m(\u001b[0m\u001b[0mtrainset\u001b[0m\u001b[1;33m.\u001b[0m\u001b[0mbuild_anti_testset\u001b[0m\u001b[1;33m(\u001b[0m\u001b[1;33m)\u001b[0m\u001b[1;33m)\u001b[0m\u001b[1;33m\u001b[0m\u001b[1;33m\u001b[0m\u001b[0m\n\u001b[0m",
      "\u001b[1;32m~\\anaconda3\\envs\\pjt\\lib\\site-packages\\surprise\\trainset.py\u001b[0m in \u001b[0;36mbuild_anti_testset\u001b[1;34m(self, fill)\u001b[0m\n\u001b[0;32m    229\u001b[0m             \u001b[0muser_items\u001b[0m \u001b[1;33m=\u001b[0m \u001b[0mset\u001b[0m\u001b[1;33m(\u001b[0m\u001b[1;33m[\u001b[0m\u001b[0mj\u001b[0m \u001b[1;32mfor\u001b[0m \u001b[1;33m(\u001b[0m\u001b[0mj\u001b[0m\u001b[1;33m,\u001b[0m \u001b[0m_\u001b[0m\u001b[1;33m)\u001b[0m \u001b[1;32min\u001b[0m \u001b[0mself\u001b[0m\u001b[1;33m.\u001b[0m\u001b[0mur\u001b[0m\u001b[1;33m[\u001b[0m\u001b[0mu\u001b[0m\u001b[1;33m]\u001b[0m\u001b[1;33m]\u001b[0m\u001b[1;33m)\u001b[0m\u001b[1;33m\u001b[0m\u001b[1;33m\u001b[0m\u001b[0m\n\u001b[0;32m    230\u001b[0m             anti_testset += [(self.to_raw_uid(u), self.to_raw_iid(i), fill) for\n\u001b[1;32m--> 231\u001b[1;33m                              \u001b[0mi\u001b[0m \u001b[1;32min\u001b[0m \u001b[0mself\u001b[0m\u001b[1;33m.\u001b[0m\u001b[0mall_items\u001b[0m\u001b[1;33m(\u001b[0m\u001b[1;33m)\u001b[0m \u001b[1;32mif\u001b[0m\u001b[1;33m\u001b[0m\u001b[1;33m\u001b[0m\u001b[0m\n\u001b[0m\u001b[0;32m    232\u001b[0m                              i not in user_items]\n\u001b[0;32m    233\u001b[0m         \u001b[1;32mreturn\u001b[0m \u001b[0manti_testset\u001b[0m\u001b[1;33m\u001b[0m\u001b[1;33m\u001b[0m\u001b[0m\n",
      "\u001b[1;31mMemoryError\u001b[0m: "
     ]
    }
   ],
   "source": [
    "predictions = algo.test(trainset.build_anti_testset())"
   ]
  },
  {
   "cell_type": "code",
   "execution_count": null,
   "metadata": {},
   "outputs": [],
   "source": [
    "# Dump algorithm and reload it.\n",
    "file_name = os.path.expanduser('dump_file')\n",
    "dump.dump(file_name, algo=algo)\n",
    "_, loaded_algo = dump.load(file_name)\n",
    "\n",
    "# We now ensure that the algo is still the same by checking the predictions.\n",
    "predictions_loaded_algo = loaded_algo.test(trainset.build_testset())\n",
    "assert predictions == predictions_loaded_algo\n",
    "print('Predictions are the same')"
   ]
  },
  {
   "cell_type": "code",
   "execution_count": null,
   "metadata": {},
   "outputs": [],
   "source": []
  },
  {
   "cell_type": "code",
   "execution_count": null,
   "metadata": {},
   "outputs": [],
   "source": [
    "from collections import defaultdict\n",
    "def get_top_n(predictions, n=10):\n",
    "    '''Return the top-N recommendation for each user from a set of predictions.\n",
    "\n",
    "    Args:\n",
    "        predictions(list of Prediction objects): The list of predictions, as\n",
    "            returned by the test method of an algorithm.\n",
    "        n(int): The number of recommendation to output for each user. Default\n",
    "            is 10.\n",
    "\n",
    "    Returns:\n",
    "    A dict where keys are user (raw) ids and values are lists of tuples:\n",
    "        [(raw item id, rating estimation), ...] of size n.\n",
    "    '''\n",
    "\n",
    "    # First map the predictions to each user.\n",
    "    top_n = defaultdict(list)\n",
    "    for uid, iid, true_r, est, _ in predictions:\n",
    "        top_n[uid].append((iid, est))\n",
    "\n",
    "    # Then sort the predictions for each user and retrieve the k highest ones.\n",
    "    for uid, user_ratings in top_n.items():\n",
    "        user_ratings.sort(key=lambda x: x[1], reverse=True)\n",
    "        top_n[uid] = user_ratings[:n]\n",
    "\n",
    "    return top_n"
   ]
  },
  {
   "cell_type": "code",
   "execution_count": null,
   "metadata": {},
   "outputs": [],
   "source": [
    "top_n = get_top_n(predictions, n=10)\n",
    "\n",
    "# Print the recommended items for each user\n",
    "for uid, user_ratings in top_n.items():\n",
    "    print(uid, [iid for (iid, _) in user_ratings])"
   ]
  },
  {
   "cell_type": "code",
   "execution_count": null,
   "metadata": {},
   "outputs": [],
   "source": [
    "reviews[reviews['user_id']==183349]"
   ]
  },
  {
   "cell_type": "code",
   "execution_count": null,
   "metadata": {
    "scrolled": true
   },
   "outputs": [],
   "source": [
    "reviews[reviews['store_id']==24772]"
   ]
  },
  {
   "cell_type": "code",
   "execution_count": null,
   "metadata": {},
   "outputs": [],
   "source": [
    "algo = surprise.SVD()\n",
    "cross_validate(algo, dataframe,measures=['RMSE','MAE'], cv=5, verbose=True)"
   ]
  },
  {
   "cell_type": "markdown",
   "metadata": {},
   "source": [
    "#### https://lsjsj92.tistory.com/570?category=853217"
   ]
  },
  {
   "cell_type": "markdown",
   "metadata": {},
   "source": [
    "#### https://antilibrary.org/2086"
   ]
  },
  {
   "cell_type": "code",
   "execution_count": null,
   "metadata": {},
   "outputs": [],
   "source": [
    "from surprise import SVD,SVDpp, SlopeOne, NMF,NormalPredictor,KNNBaseline,KNNBasic,KNNWithMeans,KNNWithZScore,BaselineOnly,CoClustering\n",
    "from surprise import Dataset\n",
    "from surprise.model_selection import cross_validate\n",
    "from surprise import dump\n",
    "#swapping columns\n",
    "raw=df[['user_id','store_id','rating']] \n",
    "# when importing from a DF, you only need to specify the scale of the ratings.\n",
    "reader = surprise.Reader(rating_scale=(0,5)) \n",
    "#into surprise:\n",
    "dataframe = Dataset.load_from_df(raw,reader)"
   ]
  },
  {
   "cell_type": "code",
   "execution_count": null,
   "metadata": {
    "scrolled": true
   },
   "outputs": [],
   "source": [
    "algo = surprise.SVD()\n",
    "# cross_validate(algo, dataframe,measures=['RMSE'], cv=3, verbose=True)\n",
    "algo.fit(dataframe.build_full_trainset())"
   ]
  },
  {
   "cell_type": "code",
   "execution_count": null,
   "metadata": {},
   "outputs": [],
   "source": [
    "output"
   ]
  },
  {
   "cell_type": "code",
   "execution_count": null,
   "metadata": {},
   "outputs": [],
   "source": [
    "pred = algo.predict(uid='17371',iid=\"36441\",r_ui=4, verbose=True)\n",
    "score = pred.est\n",
    "print(score)"
   ]
  },
  {
   "cell_type": "code",
   "execution_count": null,
   "metadata": {},
   "outputs": [],
   "source": [
    "df.head()"
   ]
  },
  {
   "cell_type": "code",
   "execution_count": 15,
   "metadata": {},
   "outputs": [],
   "source": [
    "test = df[df['address'].str.contains(\"서울\")]"
   ]
  },
  {
   "cell_type": "code",
   "execution_count": 16,
   "metadata": {},
   "outputs": [
    {
     "data": {
      "text/html": [
       "<div>\n",
       "<style scoped>\n",
       "    .dataframe tbody tr th:only-of-type {\n",
       "        vertical-align: middle;\n",
       "    }\n",
       "\n",
       "    .dataframe tbody tr th {\n",
       "        vertical-align: top;\n",
       "    }\n",
       "\n",
       "    .dataframe thead th {\n",
       "        text-align: right;\n",
       "    }\n",
       "</style>\n",
       "<table border=\"1\" class=\"dataframe\">\n",
       "  <thead>\n",
       "    <tr style=\"text-align: right;\">\n",
       "      <th></th>\n",
       "      <th>user_id</th>\n",
       "      <th>store_id</th>\n",
       "      <th>rating</th>\n",
       "      <th>store_name</th>\n",
       "      <th>category</th>\n",
       "      <th>address</th>\n",
       "    </tr>\n",
       "  </thead>\n",
       "  <tbody>\n",
       "    <tr>\n",
       "      <th>4</th>\n",
       "      <td>115682</td>\n",
       "      <td>38</td>\n",
       "      <td>3.0</td>\n",
       "      <td>010수산</td>\n",
       "      <td>횟집</td>\n",
       "      <td>서울특별시 강서구 등촌동 671-3</td>\n",
       "    </tr>\n",
       "    <tr>\n",
       "      <th>5</th>\n",
       "      <td>388883</td>\n",
       "      <td>49</td>\n",
       "      <td>5.0</td>\n",
       "      <td>03수제비칼국수</td>\n",
       "      <td>수제비</td>\n",
       "      <td>서울특별시 서초구 방배동 768-2</td>\n",
       "    </tr>\n",
       "    <tr>\n",
       "      <th>6</th>\n",
       "      <td>180541</td>\n",
       "      <td>49</td>\n",
       "      <td>4.0</td>\n",
       "      <td>03수제비칼국수</td>\n",
       "      <td>수제비</td>\n",
       "      <td>서울특별시 서초구 방배동 768-2</td>\n",
       "    </tr>\n",
       "    <tr>\n",
       "      <th>7</th>\n",
       "      <td>249051</td>\n",
       "      <td>50</td>\n",
       "      <td>5.0</td>\n",
       "      <td>03인앤아웃</td>\n",
       "      <td>샌드위치|터키샌드위치</td>\n",
       "      <td>서울특별시 서대문구 연희동 126-2</td>\n",
       "    </tr>\n",
       "    <tr>\n",
       "      <th>26</th>\n",
       "      <td>872014</td>\n",
       "      <td>92</td>\n",
       "      <td>4.0</td>\n",
       "      <td>10 꼬르소꼬모 카페</td>\n",
       "      <td>cafe|브런치</td>\n",
       "      <td>서울특별시 강남구 청담동 79  Trinity 빌딩 지하 1층</td>\n",
       "    </tr>\n",
       "    <tr>\n",
       "      <th>...</th>\n",
       "      <td>...</td>\n",
       "      <td>...</td>\n",
       "      <td>...</td>\n",
       "      <td>...</td>\n",
       "      <td>...</td>\n",
       "      <td>...</td>\n",
       "    </tr>\n",
       "    <tr>\n",
       "      <th>91388</th>\n",
       "      <td>574786</td>\n",
       "      <td>360492</td>\n",
       "      <td>4.0</td>\n",
       "      <td>지구촌</td>\n",
       "      <td>루프탑|라자냐</td>\n",
       "      <td>서울특별시 용산구 이태원동 130-43</td>\n",
       "    </tr>\n",
       "    <tr>\n",
       "      <th>91389</th>\n",
       "      <td>419534</td>\n",
       "      <td>360493</td>\n",
       "      <td>5.0</td>\n",
       "      <td>지구촌 가정식</td>\n",
       "      <td>미고랭|밥집</td>\n",
       "      <td>서울특별시 마포구 연남동 228-4</td>\n",
       "    </tr>\n",
       "    <tr>\n",
       "      <th>91390</th>\n",
       "      <td>43793</td>\n",
       "      <td>360493</td>\n",
       "      <td>4.0</td>\n",
       "      <td>지구촌 가정식</td>\n",
       "      <td>미고랭|밥집</td>\n",
       "      <td>서울특별시 마포구 연남동 228-4</td>\n",
       "    </tr>\n",
       "    <tr>\n",
       "      <th>91391</th>\n",
       "      <td>5239</td>\n",
       "      <td>360493</td>\n",
       "      <td>3.0</td>\n",
       "      <td>지구촌 가정식</td>\n",
       "      <td>미고랭|밥집</td>\n",
       "      <td>서울특별시 마포구 연남동 228-4</td>\n",
       "    </tr>\n",
       "    <tr>\n",
       "      <th>91392</th>\n",
       "      <td>130558</td>\n",
       "      <td>360493</td>\n",
       "      <td>3.0</td>\n",
       "      <td>지구촌 가정식</td>\n",
       "      <td>미고랭|밥집</td>\n",
       "      <td>서울특별시 마포구 연남동 228-4</td>\n",
       "    </tr>\n",
       "  </tbody>\n",
       "</table>\n",
       "<p>40484 rows × 6 columns</p>\n",
       "</div>"
      ],
      "text/plain": [
       "       user_id  store_id  rating   store_name     category  \\\n",
       "4       115682        38     3.0        010수산           횟집   \n",
       "5       388883        49     5.0     03수제비칼국수          수제비   \n",
       "6       180541        49     4.0     03수제비칼국수          수제비   \n",
       "7       249051        50     5.0       03인앤아웃  샌드위치|터키샌드위치   \n",
       "26      872014        92     4.0  10 꼬르소꼬모 카페     cafe|브런치   \n",
       "...        ...       ...     ...          ...          ...   \n",
       "91388   574786    360492     4.0          지구촌      루프탑|라자냐   \n",
       "91389   419534    360493     5.0      지구촌 가정식       미고랭|밥집   \n",
       "91390    43793    360493     4.0      지구촌 가정식       미고랭|밥집   \n",
       "91391     5239    360493     3.0      지구촌 가정식       미고랭|밥집   \n",
       "91392   130558    360493     3.0      지구촌 가정식       미고랭|밥집   \n",
       "\n",
       "                                  address  \n",
       "4                     서울특별시 강서구 등촌동 671-3  \n",
       "5                     서울특별시 서초구 방배동 768-2  \n",
       "6                     서울특별시 서초구 방배동 768-2  \n",
       "7                    서울특별시 서대문구 연희동 126-2  \n",
       "26     서울특별시 강남구 청담동 79  Trinity 빌딩 지하 1층  \n",
       "...                                   ...  \n",
       "91388               서울특별시 용산구 이태원동 130-43  \n",
       "91389                 서울특별시 마포구 연남동 228-4  \n",
       "91390                 서울특별시 마포구 연남동 228-4  \n",
       "91391                 서울특별시 마포구 연남동 228-4  \n",
       "91392                 서울특별시 마포구 연남동 228-4  \n",
       "\n",
       "[40484 rows x 6 columns]"
      ]
     },
     "execution_count": 16,
     "metadata": {},
     "output_type": "execute_result"
    }
   ],
   "source": [
    "test"
   ]
  },
  {
   "cell_type": "code",
   "execution_count": 17,
   "metadata": {},
   "outputs": [],
   "source": [
    "iids = test['store_id'].unique()\n",
    "iids50 = raw.loc[raw['user_id']==4974, 'store_id']\n",
    "iids_to_pred = np.setdiff1d(iids,iids50) # 안 간 가게 구함(차집합)"
   ]
  },
  {
   "cell_type": "code",
   "execution_count": 19,
   "metadata": {},
   "outputs": [
    {
     "data": {
      "text/plain": [
       "Prediction(uid=4974, iid=38, r_ui=5.0, est=3.551184984354573, details={'was_impossible': False})"
      ]
     },
     "execution_count": 19,
     "metadata": {},
     "output_type": "execute_result"
    }
   ],
   "source": [
    "testset = [[4974,iid,5.] for iid in iids_to_pred]\n",
    "predictions = algo.test(testset)\n",
    "predictions[0]"
   ]
  },
  {
   "cell_type": "code",
   "execution_count": 20,
   "metadata": {},
   "outputs": [
    {
     "name": "stdout",
     "output_type": "stream",
     "text": [
      "Top store for user has store_id [281035  25753 242048 264422 119891  35887 330067 242043 139063 194980] with predicted rating [2.48736304 2.49441277 2.59356822 2.63789005 2.6716175  2.67987854\n",
      " 2.68567142 2.71473322 2.71551675 2.75742525]\n"
     ]
    }
   ],
   "source": [
    "pred_ratings = np.array([pred.est for pred in predictions])\n",
    "i_max = pred_ratings.argsort()[:10]\n",
    "iid = iids_to_pred[i_max]\n",
    "print('Top store for user has store_id {0} with predicted rating {1}'.format(iid,pred_ratings[i_max]))"
   ]
  },
  {
   "cell_type": "code",
   "execution_count": 21,
   "metadata": {},
   "outputs": [
    {
     "name": "stdout",
     "output_type": "stream",
     "text": [
      "\n",
      "281035 : 2.4873630377770093\n",
      "\n",
      "25753 : 2.4944127719269935\n",
      "\n",
      "242048 : 2.593568216219813\n",
      "\n",
      "264422 : 2.63789005394074\n",
      "\n",
      "119891 : 2.671617502703624\n",
      "\n",
      "35887 : 2.6798785441143482\n",
      "\n",
      "330067 : 2.68567141791126\n",
      "\n",
      "242043 : 2.7147332180770785\n",
      "\n",
      "139063 : 2.71551674687952\n",
      "\n",
      "194980 : 2.757425249129829\n"
     ]
    }
   ],
   "source": [
    "for i,m in zip(iid,i_max):\n",
    "    print()\n",
    "    print('{0} : {1}'.format(i,pred_ratings[m]))"
   ]
  },
  {
   "cell_type": "code",
   "execution_count": null,
   "metadata": {},
   "outputs": [],
   "source": [
    "df_store[df_store['id'].isin(iid)]"
   ]
  },
  {
   "cell_type": "code",
   "execution_count": null,
   "metadata": {},
   "outputs": [],
   "source": [
    "def get_Iu(uid):\n",
    "    \"\"\" return the number of items rated by given user\n",
    "    args: \n",
    "      uid: the id of the user\n",
    "    returns: \n",
    "      the number of items rated by the user\n",
    "    \"\"\"\n",
    "    try:\n",
    "        return len(trainset.ur[trainset.to_inner_uid(uid)])\n",
    "    except ValueError: # user was not part of the trainset\n",
    "        return 0\n",
    "    \n",
    "def get_Ui(iid):\n",
    "    \"\"\" return number of users that have rated given item\n",
    "    args:\n",
    "      iid: the raw id of the item\n",
    "    returns:\n",
    "      the number of users that have rated the item.\n",
    "    \"\"\"\n",
    "    try: \n",
    "        return len(trainset.ir[trainset.to_inner_iid(iid)])\n",
    "    except ValueError:\n",
    "        return 0"
   ]
  },
  {
   "cell_type": "code",
   "execution_count": null,
   "metadata": {},
   "outputs": [],
   "source": [
    "# 정확도 계산\n",
    "from surprise import accuracy\n",
    "\n",
    "testset = trainset.build_testset()\n",
    "predictions = algo.test(testset)\n",
    "\n",
    "accuracy.rmse(predictions)"
   ]
  },
  {
   "cell_type": "code",
   "execution_count": null,
   "metadata": {},
   "outputs": [],
   "source": [
    "df = pd.DataFrame(predictions, columns=['uid', 'iid', 'rui', 'est', 'details'])\n",
    "df['Iu'] = df.uid.apply(get_Iu)\n",
    "df['Ui'] = df.iid.apply(get_Ui)\n",
    "df['err'] = abs(df.est - df.rui)\n",
    "best_predictions = df.sort_values(by='err')[:10]\n",
    "worst_predictions = df.sort_values(by='err')[-10:]"
   ]
  },
  {
   "cell_type": "code",
   "execution_count": null,
   "metadata": {},
   "outputs": [],
   "source": [
    "s = raw[raw['user_id']==4974]"
   ]
  },
  {
   "cell_type": "code",
   "execution_count": null,
   "metadata": {},
   "outputs": [],
   "source": [
    "s=pd.DataFrame(s)"
   ]
  },
  {
   "cell_type": "code",
   "execution_count": null,
   "metadata": {},
   "outputs": [],
   "source": [
    "s[s['store_id'].isin(iid)]"
   ]
  },
  {
   "cell_type": "code",
   "execution_count": null,
   "metadata": {},
   "outputs": [],
   "source": [
    "df"
   ]
  },
  {
   "cell_type": "code",
   "execution_count": null,
   "metadata": {},
   "outputs": [],
   "source": []
  }
 ],
 "metadata": {
  "kernelspec": {
   "display_name": "Python [conda env:pjt] *",
   "language": "python",
   "name": "conda-env-pjt-py"
  },
  "language_info": {
   "codemirror_mode": {
    "name": "ipython",
    "version": 3
   },
   "file_extension": ".py",
   "mimetype": "text/x-python",
   "name": "python",
   "nbconvert_exporter": "python",
   "pygments_lexer": "ipython3",
   "version": "3.6.8"
  }
 },
 "nbformat": 4,
 "nbformat_minor": 4
}
