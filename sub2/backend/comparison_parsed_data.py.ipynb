{
 "cells": [
  {
   "cell_type": "code",
   "execution_count": 1,
   "metadata": {},
   "outputs": [],
   "source": [
    "import json\n",
    "import pandas as pd\n",
    "import os\n",
    "import shutil"
   ]
  },
  {
   "cell_type": "code",
   "execution_count": 2,
   "metadata": {},
   "outputs": [],
   "source": [
    "DATA_DIR = \"../../data\"\n",
    "DATA_FILE = os.path.join(DATA_DIR, \"data.json\")\n",
    "DUMP_FILE = os.path.join(DATA_DIR, \"dump.pkl\")"
   ]
  },
  {
   "cell_type": "code",
   "execution_count": 3,
   "metadata": {},
   "outputs": [],
   "source": [
    "store_columns = (\n",
    "    \"id\",  # 음식점 고유번호\n",
    "    \"store_name\",  # 음식점 이름\n",
    "    \"branch\",  # 음식점 지점 여부\n",
    "    \"area\",  # 음식점 위치\n",
    "    \"tel\",  # 음식점 번호\n",
    "    \"address\",  # 음식점 주소\n",
    "    \"latitude\",  # 음식점 위도\n",
    "    \"longitude\",  # 음식점 경도\n",
    "    \"category\",  # 음식점 카테고리\n",
    ")\n",
    "\n",
    "review_columns = (\n",
    "    \"id\",  # 리뷰 고유번호\n",
    "    \"store\",  # 음식점 고유번호\n",
    "    \"user\",  # 유저 고유번호\n",
    "    \"score\",  # 평점\n",
    "    \"content\",  # 리뷰 내용\n",
    "    \"reg_time\",  # 리뷰 등록 시간\n",
    ")\n",
    "\n",
    "user_columns = (\n",
    "    \"id\", # 유저 고유번호\n",
    "    \"gender\", # 유저 성별\n",
    "    \"birth_year\", # 유저 나이\n",
    ")\n",
    "\n",
    "menu_columns = (\n",
    "    \"id\", # 메뉴 고유번호\n",
    "    \"store\",  # 음식점 고유번호\n",
    "    \"menu_name\", # 메뉴 이름\n",
    "    \"price\" # 메뉴 가격\n",
    ")\n",
    "\n",
    "def import_data(data_path=DATA_FILE):\n",
    "    \"\"\"\n",
    "    Req. 1-1-1 음식점 데이터 파일을 읽어서 Pandas DataFrame 형태로 저장합니다\n",
    "    \"\"\"\n",
    "\n",
    "    try:\n",
    "        with open(data_path, encoding=\"utf-8\") as f:\n",
    "            data = json.loads(f.read())\n",
    "    except FileNotFoundError as e:\n",
    "        print(f\"`{data_path}` 가 존재하지 않습니다.\")\n",
    "        exit(1)\n",
    "\n",
    "    stores = []  # 음식점 테이블\n",
    "    reviews = []  # 리뷰 테이블\n",
    "    users = {} # 유저 테이블\n",
    "    menus = []\n",
    "    idx = 0\n",
    "    r_idx = 0 # reviews의 id를 사용하면 중복되는 것이 있기 때문에\n",
    "    for d in data:\n",
    "\n",
    "        categories = [c[\"category\"] for c in d[\"category_list\"]]\n",
    "        stores.append(\n",
    "            [\n",
    "                d[\"id\"],\n",
    "                d[\"name\"],\n",
    "                d[\"branch\"],\n",
    "                d[\"area\"],\n",
    "                d[\"tel\"],\n",
    "                d[\"address\"],\n",
    "                d[\"latitude\"],\n",
    "                d[\"longitude\"],\n",
    "                \"|\".join(categories),\n",
    "            ]\n",
    "        )\n",
    "        \n",
    "        for review in d[\"review_list\"]:\n",
    "            r = review[\"review_info\"]\n",
    "            u = review[\"writer_info\"]\n",
    "            r_idx +=1\n",
    "            reviews.append(\n",
    "                [r_idx, d[\"id\"], u[\"id\"], r[\"score\"], r[\"content\"], r[\"reg_time\"]]\n",
    "            )\n",
    "            try:\n",
    "                users[u[\"id\"]]\n",
    "            except KeyError:\n",
    "                user_colums = (\n",
    "                    \"id\", # 유저 고유번호\n",
    "                    \"gender\", # 유저 성별\n",
    "                    \"birth_year\", # 유저 나이\n",
    "                )\n",
    "                users.update({u[\"id\"]: [u[\"id\"], u[\"gender\"], u[\"born_year\"]]})\n",
    "\n",
    "        for menu in d[\"menu_list\"]:\n",
    "            idx += 1\n",
    "            menus.append(\n",
    "                [\n",
    "                    idx,\n",
    "                    d[\"id\"],\n",
    "                    menu[\"menu\"],\n",
    "                    menu[\"price\"]\n",
    "                ]\n",
    "            )\n",
    "\n",
    "    store_frame = pd.DataFrame(data=stores, columns=store_columns)\n",
    "    review_frame = pd.DataFrame(data=reviews, columns=review_columns)\n",
    "    user_frame = pd.DataFrame(data=list(users.values()), columns=user_columns)\n",
    "    menu_frame = pd.DataFrame(data=menus, columns=menu_columns)\n",
    "    # 하단 값 계산 후 반영하는 것들\n",
    "    menu_frame.loc[menu_frame['price'].isna(),'price']=0\n",
    "    \n",
    "    return {\"stores\": store_frame, \"reviews\": review_frame, \"users\" : user_frame, \"menus\" : menu_frame} "
   ]
  },
  {
   "cell_type": "code",
   "execution_count": 4,
   "metadata": {},
   "outputs": [],
   "source": [
    "def dump_dataframes(dataframes):\n",
    "    pd.to_pickle(dataframes, DUMP_FILE)"
   ]
  },
  {
   "cell_type": "code",
   "execution_count": 5,
   "metadata": {},
   "outputs": [],
   "source": [
    "def load_dataframes():\n",
    "    return pd.read_pickle(DUMP_FILE)"
   ]
  },
  {
   "cell_type": "markdown",
   "metadata": {},
   "source": [
    "### def main\n",
    "##### (jupyter 상에서 사용하기위해 def형태 제거)"
   ]
  },
  {
   "cell_type": "markdown",
   "metadata": {},
   "source": [
    "##### data.json에서  데이터 파싱"
   ]
  },
  {
   "cell_type": "code",
   "execution_count": 6,
   "metadata": {},
   "outputs": [
    {
     "name": "stdout",
     "output_type": "stream",
     "text": [
      "[*] Parsing data...\n",
      "[+] Done\n"
     ]
    }
   ],
   "source": [
    "print(\"[*] Parsing data...\")\n",
    "data = import_data()\n",
    "print(\"[+] Done\")"
   ]
  },
  {
   "cell_type": "markdown",
   "metadata": {},
   "source": [
    "#### 생성된 데이터프레임 파일을 pkl 로 저장"
   ]
  },
  {
   "cell_type": "code",
   "execution_count": 7,
   "metadata": {},
   "outputs": [
    {
     "name": "stdout",
     "output_type": "stream",
     "text": [
      "[*] Dumping data...\n",
      "[+] Done\n",
      "\n"
     ]
    }
   ],
   "source": [
    "print(\"[*] Dumping data...\")\n",
    "dump_dataframes(data)\n",
    "print(\"[+] Done\\n\")"
   ]
  },
  {
   "cell_type": "markdown",
   "metadata": {},
   "source": [
    "#### pkl에서 데이터 불러오기"
   ]
  },
  {
   "cell_type": "code",
   "execution_count": 8,
   "metadata": {},
   "outputs": [],
   "source": [
    "data = load_dataframes()\n",
    "#출력 형식 위한 정의\n",
    "term_w = shutil.get_terminal_size()[0] - 1\n",
    "separater = \"-\" * term_w"
   ]
  },
  {
   "cell_type": "markdown",
   "metadata": {},
   "source": [
    "#### 각 데이터프레임의 헤드(5개) 출력"
   ]
  },
  {
   "cell_type": "code",
   "execution_count": 9,
   "metadata": {},
   "outputs": [
    {
     "name": "stdout",
     "output_type": "stream",
     "text": [
      "[음식점]\n",
      "-------------------------------------------------------------------------------------------------------\n",
      "\n",
      "   id     store_name branch  area            tel                address  \\\n",
      "0   1           Agal   None    홍대  010-6689-5886   서울특별시 마포구 동교동 170-13   \n",
      "1   2         Assisy   None    광주   062-367-0700    광주광역시 서구 농성동 631-33   \n",
      "2   3  Battered Sole   None   이태원    02-749-6867   서울특별시 용산구 이태원동 118-9   \n",
      "3   4      Chakyoung   None  달맞이길   051-756-5566  부산광역시 해운대구 중2동 1509-5   \n",
      "4   5       Delabobo   None   발산역   02-2667-9854      서울특별시 강서구 등촌동 689   \n",
      "\n",
      "    latitude   longitude   category  \n",
      "0  37.556862  126.926666   아구찜|포장마차  \n",
      "1  35.150746  126.890062         카페  \n",
      "2  37.535032  126.991664    피쉬앤칩스|펍  \n",
      "3  35.158587  129.175004  레스토랑|카프레제  \n",
      "4  37.559904  126.840512  디저트카페|디저트  \n",
      "\n",
      "-------------------------------------------------------------------------------------------------------\n",
      "\n",
      "\n"
     ]
    }
   ],
   "source": [
    "print(\"[음식점]\")\n",
    "print(f\"{separater}\\n\")\n",
    "print(data[\"stores\"].head())\n",
    "print(f\"\\n{separater}\\n\\n\")"
   ]
  },
  {
   "cell_type": "code",
   "execution_count": 10,
   "metadata": {},
   "outputs": [
    {
     "name": "stdout",
     "output_type": "stream",
     "text": [
      "[리뷰]\n",
      "-------------------------------------------------------------------------------------------------------\n",
      "\n",
      "   id  store    user  score  \\\n",
      "0   1     15   68632      5   \n",
      "1   2     18  389728      5   \n",
      "2   3     19   68716      4   \n",
      "3   4     37  774353      2   \n",
      "4   5     38  115682      3   \n",
      "\n",
      "                                             content             reg_time  \n",
      "0         전포 윗길에 새로 생긴! 호주에서 온 쉐프가 직접 요리하는 호주식 레스토랑!  1970-01-01 00:00:00  \n",
      "1                    샌드위치 내용물도 알차게 들어있고 맛있었어요 가성비 추천  1970-01-01 00:00:00  \n",
      "2  홈플러스 1층 매장 푸드코트 내 있는 매장인데 계란찜정식은 처음보고 시켜봣는데 사진...  1970-01-01 00:00:00  \n",
      "3  전 여기 5년전에 가봤었는데 그때 기억은 별로였어요\\n단체손님이 많았고, 차려지는건...  1970-01-01 00:00:00  \n",
      "4  친구들끼리 술 간단하게마시러 감. 스끼다시 괜찮지만 회 양이 조금 부족한 느낌. 맛...  2019-03-15 22:16:47  \n",
      "\n",
      "-------------------------------------------------------------------------------------------------------\n",
      "\n",
      "\n"
     ]
    }
   ],
   "source": [
    "print(\"[리뷰]\")\n",
    "print(f\"{separater}\\n\")\n",
    "print(data[\"reviews\"].head())\n",
    "print(f\"\\n{separater}\\n\\n\")"
   ]
  },
  {
   "cell_type": "code",
   "execution_count": 11,
   "metadata": {},
   "outputs": [
    {
     "name": "stdout",
     "output_type": "stream",
     "text": [
      "[유저]\n",
      "-------------------------------------------------------------------------------------------------------\n",
      "\n",
      "       id gender birth_year\n",
      "0   68632      남       1990\n",
      "1  389728      여       1993\n",
      "2   68716      여       1984\n",
      "3  774353      여       1972\n",
      "4  115682      남       1991\n",
      "\n",
      "-------------------------------------------------------------------------------------------------------\n",
      "\n",
      "\n"
     ]
    }
   ],
   "source": [
    "print(\"[유저]\")\n",
    "print(f\"{separater}\\n\")\n",
    "print(data[\"users\"].head())\n",
    "print(f\"\\n{separater}\\n\\n\")"
   ]
  },
  {
   "cell_type": "code",
   "execution_count": 12,
   "metadata": {},
   "outputs": [
    {
     "name": "stdout",
     "output_type": "stream",
     "text": [
      "[메뉴]\n",
      "-------------------------------------------------------------------------------------------------------\n",
      "\n",
      "   id  store             menu_name    price\n",
      "0   1      3  메인 (피쉬앤칩스, 오리 가슴살 등)  14000.0\n",
      "1   2      3          스타터 보드(파테 등)  18000.0\n",
      "2   3      3        디저트 (초콜렛 퐁당 등)   8500.0\n",
      "3   4      3               생과일 칵테일   9000.0\n",
      "4   5      3                   생맥주   7000.0\n",
      "\n",
      "-------------------------------------------------------------------------------------------------------\n",
      "\n",
      "\n"
     ]
    }
   ],
   "source": [
    "print(\"[메뉴]\")\n",
    "print(f\"{separater}\\n\")\n",
    "print(data[\"menus\"].head())\n",
    "print(f\"\\n{separater}\\n\\n\")"
   ]
  },
  {
   "cell_type": "markdown",
   "metadata": {},
   "source": [
    "***\n",
    "### 구조 파악을 위한 출력\n",
    "#### 기존 데이터를 django model로 변환하는 과정에 생기는 오류(Value error)등을 방지하기 위해 확인"
   ]
  },
  {
   "cell_type": "code",
   "execution_count": 13,
   "metadata": {},
   "outputs": [],
   "source": [
    " stores = data['stores']  # //stores는 문제없이 동작하므로 패스~~\n",
    "menus = data['menus']\n",
    "reviews = data['reviews']\n",
    "users = data['users']"
   ]
  },
  {
   "cell_type": "code",
   "execution_count": null,
   "metadata": {},
   "outputs": [],
   "source": [
    "menus.dtypes"
   ]
  },
  {
   "cell_type": "code",
   "execution_count": 15,
   "metadata": {},
   "outputs": [],
   "source": [
    "#menu의 price중에 NaN값이 1개가 발견되었고, 0으로 넣어줌\n",
    "menus.loc[menus['price'].isna(),'price']=0"
   ]
  },
  {
   "cell_type": "code",
   "execution_count": null,
   "metadata": {},
   "outputs": [],
   "source": [
    "reviews.dtypes"
   ]
  },
  {
   "cell_type": "code",
   "execution_count": 17,
   "metadata": {},
   "outputs": [
    {
     "data": {
      "text/plain": [
       "2047     1\n",
       "82621    1\n",
       "6806     1\n",
       "4759     1\n",
       "27288    1\n",
       "        ..\n",
       "21856    1\n",
       "23905    1\n",
       "17762    1\n",
       "19811    1\n",
       "2049     1\n",
       "Name: id, Length: 91398, dtype: int64"
      ]
     },
     "execution_count": 17,
     "metadata": {},
     "output_type": "execute_result"
    }
   ],
   "source": [
    "reviews['id'].value_counts()"
   ]
  },
  {
   "cell_type": "code",
   "execution_count": 20,
   "metadata": {},
   "outputs": [
    {
     "data": {
      "text/plain": [
       "id             int64\n",
       "gender        object\n",
       "birth_year    object\n",
       "dtype: object"
      ]
     },
     "execution_count": 20,
     "metadata": {},
     "output_type": "execute_result"
    }
   ],
   "source": [
    "users.dtypes"
   ]
  },
  {
   "cell_type": "code",
   "execution_count": 21,
   "metadata": {},
   "outputs": [
    {
     "data": {
      "text/html": [
       "<div>\n",
       "<style scoped>\n",
       "    .dataframe tbody tr th:only-of-type {\n",
       "        vertical-align: middle;\n",
       "    }\n",
       "\n",
       "    .dataframe tbody tr th {\n",
       "        vertical-align: top;\n",
       "    }\n",
       "\n",
       "    .dataframe thead th {\n",
       "        text-align: right;\n",
       "    }\n",
       "</style>\n",
       "<table border=\"1\" class=\"dataframe\">\n",
       "  <thead>\n",
       "    <tr style=\"text-align: right;\">\n",
       "      <th></th>\n",
       "      <th>id</th>\n",
       "      <th>gender</th>\n",
       "      <th>birth_year</th>\n",
       "    </tr>\n",
       "  </thead>\n",
       "  <tbody>\n",
       "  </tbody>\n",
       "</table>\n",
       "</div>"
      ],
      "text/plain": [
       "Empty DataFrame\n",
       "Columns: [id, gender, birth_year]\n",
       "Index: []"
      ]
     },
     "execution_count": 21,
     "metadata": {},
     "output_type": "execute_result"
    }
   ],
   "source": [
    "users[users['birth_year'].isna()]"
   ]
  },
  {
   "cell_type": "code",
   "execution_count": 22,
   "metadata": {},
   "outputs": [
    {
     "data": {
      "text/plain": [
       "245752    1\n",
       "256517    1\n",
       "864883    1\n",
       "75903     1\n",
       "318968    1\n",
       "         ..\n",
       "480258    1\n",
       "565280    1\n",
       "910630    1\n",
       "133586    1\n",
       "294912    1\n",
       "Name: id, Length: 18992, dtype: int64"
      ]
     },
     "execution_count": 22,
     "metadata": {},
     "output_type": "execute_result"
    }
   ],
   "source": [
    "users['id'].value_counts()"
   ]
  },
  {
   "cell_type": "code",
   "execution_count": null,
   "metadata": {},
   "outputs": [],
   "source": []
  }
 ],
 "metadata": {
  "kernelspec": {
   "display_name": "Python 3",
   "language": "python",
   "name": "python3"
  },
  "language_info": {
   "codemirror_mode": {
    "name": "ipython",
    "version": 3
   },
   "file_extension": ".py",
   "mimetype": "text/x-python",
   "name": "python",
   "nbconvert_exporter": "python",
   "pygments_lexer": "ipython3",
   "version": "3.7.6"
  }
 },
 "nbformat": 4,
 "nbformat_minor": 4
}
